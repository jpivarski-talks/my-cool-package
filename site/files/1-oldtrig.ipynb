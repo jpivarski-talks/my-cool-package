{
 "cells": [
  {
   "cell_type": "markdown",
   "id": "e9b7eab9-fde3-4be7-9720-53140f897359",
   "metadata": {},
   "source": [
    "## Old trigonometry"
   ]
  },
  {
   "cell_type": "code",
   "execution_count": 1,
   "id": "2c2e8e64-3985-414f-9f4b-5e6ae312cad2",
   "metadata": {},
   "outputs": [],
   "source": [
    "from my_cool_package import oldtrig as old"
   ]
  },
  {
   "cell_type": "markdown",
   "id": "403bea4a-dfea-458e-a3a6-fbae1a8ac0dc",
   "metadata": {},
   "source": [
    "<br><br><br>"
   ]
  },
  {
   "cell_type": "markdown",
   "id": "801975fe-9075-44e1-8556-0504f9bc70e6",
   "metadata": {},
   "source": [
    "This is a very useful package that renames `sin` and `cos` as \"sine\" and \"cosine\" and uses degrees, rather than radians."
   ]
  },
  {
   "cell_type": "code",
   "execution_count": 2,
   "id": "a761110f-1364-44d5-8a0d-117c3cf32ee6",
   "metadata": {},
   "outputs": [
    {
     "data": {
      "text/plain": [
       "0.49999999999999994"
      ]
     },
     "execution_count": 2,
     "metadata": {},
     "output_type": "execute_result"
    }
   ],
   "source": [
    "old.sine(30)"
   ]
  },
  {
   "cell_type": "code",
   "execution_count": 3,
   "id": "15db9f7c-5cf8-4f6d-a706-623c21dedbe6",
   "metadata": {},
   "outputs": [
    {
     "data": {
      "text/plain": [
       "0.5000000000000001"
      ]
     },
     "execution_count": 3,
     "metadata": {},
     "output_type": "execute_result"
    }
   ],
   "source": [
    "old.cosine(60)"
   ]
  },
  {
   "cell_type": "markdown",
   "id": "90e0c27e-7cb0-491b-9bb2-6c7ccf36e0d3",
   "metadata": {},
   "source": [
    "<br><br><br>"
   ]
  },
  {
   "cell_type": "markdown",
   "id": "7225dc4d-86e3-4da8-b777-3fee99faca55",
   "metadata": {},
   "source": [
    "It also defines some other functions that aren't often used anymore."
   ]
  },
  {
   "cell_type": "code",
   "execution_count": 4,
   "id": "299d852b-b3fc-4ba9-b8f7-fe741c9eeb74",
   "metadata": {},
   "outputs": [
    {
     "data": {
      "text/plain": [
       "0.4999999999999999"
      ]
     },
     "execution_count": 4,
     "metadata": {},
     "output_type": "execute_result"
    }
   ],
   "source": [
    "old.versine(60)"
   ]
  },
  {
   "cell_type": "code",
   "execution_count": 5,
   "id": "8c1f7ff2-4b37-4c26-8e4c-7d31592c3f84",
   "metadata": {},
   "outputs": [
    {
     "data": {
      "text/plain": [
       "0.5"
      ]
     },
     "execution_count": 5,
     "metadata": {},
     "output_type": "execute_result"
    }
   ],
   "source": [
    "old.coversine(30)"
   ]
  },
  {
   "cell_type": "code",
   "execution_count": 6,
   "id": "e018007f-aaf6-4777-b172-5930a33a1025",
   "metadata": {},
   "outputs": [
    {
     "data": {
      "text/plain": [
       "1.5"
      ]
     },
     "execution_count": 6,
     "metadata": {},
     "output_type": "execute_result"
    }
   ],
   "source": [
    "old.vercosine(60)"
   ]
  },
  {
   "cell_type": "code",
   "execution_count": 7,
   "id": "2ff910f5-67af-4d07-bb2f-967fe6e603cd",
   "metadata": {},
   "outputs": [
    {
     "data": {
      "text/plain": [
       "1.5"
      ]
     },
     "execution_count": 7,
     "metadata": {},
     "output_type": "execute_result"
    }
   ],
   "source": [
    "old.covercosine(30)"
   ]
  },
  {
   "cell_type": "code",
   "execution_count": 8,
   "id": "03e2a83e-d049-4812-9649-ff7f10b0000e",
   "metadata": {},
   "outputs": [
    {
     "data": {
      "text/plain": [
       "0.24999999999999994"
      ]
     },
     "execution_count": 8,
     "metadata": {},
     "output_type": "execute_result"
    }
   ],
   "source": [
    "old.haversine(60)"
   ]
  },
  {
   "cell_type": "code",
   "execution_count": 9,
   "id": "1401bb6b-b9c2-4be6-9865-ab4f964990ea",
   "metadata": {},
   "outputs": [
    {
     "data": {
      "text/plain": [
       "0.25"
      ]
     },
     "execution_count": 9,
     "metadata": {},
     "output_type": "execute_result"
    }
   ],
   "source": [
    "old.hacoversine(30)"
   ]
  },
  {
   "cell_type": "code",
   "execution_count": 10,
   "id": "3622613e-61dc-4f6b-b537-1893a46412a4",
   "metadata": {},
   "outputs": [
    {
     "data": {
      "text/plain": [
       "0.75"
      ]
     },
     "execution_count": 10,
     "metadata": {},
     "output_type": "execute_result"
    }
   ],
   "source": [
    "old.havercosine(60)"
   ]
  },
  {
   "cell_type": "code",
   "execution_count": 11,
   "id": "6d273168-9251-4ba2-91a6-eca88e6d03bf",
   "metadata": {},
   "outputs": [
    {
     "data": {
      "text/plain": [
       "0.75"
      ]
     },
     "execution_count": 11,
     "metadata": {},
     "output_type": "execute_result"
    }
   ],
   "source": [
    "old.hacovercosine(30)"
   ]
  },
  {
   "cell_type": "code",
   "execution_count": 12,
   "id": "9bd4a106-42ee-4822-8dfa-2c5aad061b5b",
   "metadata": {},
   "outputs": [
    {
     "data": {
      "text/plain": [
       "0.9999999999999996"
      ]
     },
     "execution_count": 12,
     "metadata": {},
     "output_type": "execute_result"
    }
   ],
   "source": [
    "old.exsecant(60)"
   ]
  },
  {
   "cell_type": "markdown",
   "id": "bf12f90b-1bcf-4761-9771-5f08ee0ec7da",
   "metadata": {},
   "source": [
    "<br><br><br>"
   ]
  },
  {
   "cell_type": "markdown",
   "id": "42e7d37a-0314-4ca2-a3a8-140574d633f7",
   "metadata": {},
   "source": [
    "%%html\n",
    "\n",
    "<div style=\"overflow: hidden;\"><iframe src=\"angles/demo.html\" width=\"100%\" height=\"920\" scrolling=\"no\"></div>"
   ]
  },
  {
   "cell_type": "code",
   "execution_count": null,
   "id": "35195dcf-488a-4175-aebc-c0a8a61b691e",
   "metadata": {},
   "outputs": [],
   "source": []
  }
 ],
 "metadata": {
  "kernelspec": {
   "display_name": "Python 3 (ipykernel)",
   "language": "python",
   "name": "python3"
  },
  "language_info": {
   "codemirror_mode": {
    "name": "ipython",
    "version": 3
   },
   "file_extension": ".py",
   "mimetype": "text/x-python",
   "name": "python",
   "nbconvert_exporter": "python",
   "pygments_lexer": "ipython3",
   "version": "3.10.14"
  }
 },
 "nbformat": 4,
 "nbformat_minor": 5
}
