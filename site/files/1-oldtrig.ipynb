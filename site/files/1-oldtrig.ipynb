{
 "cells": [
  {
   "cell_type": "markdown",
   "id": "e9b7eab9-fde3-4be7-9720-53140f897359",
   "metadata": {},
   "source": [
    "## Old trigonometry"
   ]
  },
  {
   "cell_type": "code",
   "execution_count": 1,
   "id": "2c2e8e64-3985-414f-9f4b-5e6ae312cad2",
   "metadata": {},
   "outputs": [],
   "source": [
    "from my_cool_package import oldtrig as old"
   ]
  },
  {
   "cell_type": "markdown",
   "id": "403bea4a-dfea-458e-a3a6-fbae1a8ac0dc",
   "metadata": {},
   "source": [
    "<br><br><br>"
   ]
  },
  {
   "cell_type": "markdown",
   "id": "801975fe-9075-44e1-8556-0504f9bc70e6",
   "metadata": {},
   "source": [
    "This is a very useful package that renames `sin` and `cos` as \"sine\" and \"cosine\" and uses degrees, rather than radians."
   ]
  },
  {
   "cell_type": "code",
   "execution_count": 2,
   "id": "a761110f-1364-44d5-8a0d-117c3cf32ee6",
   "metadata": {},
   "outputs": [
    {
     "data": {
      "text/plain": [
       "0.49999999999999994"
      ]
     },
     "execution_count": 2,
     "metadata": {},
     "output_type": "execute_result"
    }
   ],
   "source": [
    "old.sine(30)"
   ]
  },
  {
   "cell_type": "code",
   "execution_count": 3,
   "id": "15db9f7c-5cf8-4f6d-a706-623c21dedbe6",
   "metadata": {},
   "outputs": [
    {
     "data": {
      "text/plain": [
       "0.5000000000000001"
      ]
     },
     "execution_count": 3,
     "metadata": {},
     "output_type": "execute_result"
    }
   ],
   "source": [
    "old.cosine(60)"
   ]
  },
  {
   "cell_type": "markdown",
   "id": "90e0c27e-7cb0-491b-9bb2-6c7ccf36e0d3",
   "metadata": {},
   "source": [
    "<br><br><br>"
   ]
  },
  {
   "cell_type": "markdown",
   "id": "7225dc4d-86e3-4da8-b777-3fee99faca55",
   "metadata": {},
   "source": [
    "It also defines some other functions that aren't often used anymore."
   ]
  },
  {
   "cell_type": "code",
   "execution_count": 4,
   "id": "299d852b-b3fc-4ba9-b8f7-fe741c9eeb74",
   "metadata": {},
   "outputs": [
    {
     "data": {
      "text/plain": [
       "0.4999999999999999"
      ]
     },
     "execution_count": 4,
     "metadata": {},
     "output_type": "execute_result"
    }
   ],
   "source": [
    "old.versine(60)"
   ]
  },
  {
   "cell_type": "code",
   "execution_count": 5,
   "id": "8c1f7ff2-4b37-4c26-8e4c-7d31592c3f84",
   "metadata": {},
   "outputs": [
    {
     "data": {
      "text/plain": [
       "0.5"
      ]
     },
     "execution_count": 5,
     "metadata": {},
     "output_type": "execute_result"
    }
   ],
   "source": [
    "old.coversine(30)"
   ]
  },
  {
   "cell_type": "code",
   "execution_count": 6,
   "id": "e018007f-aaf6-4777-b172-5930a33a1025",
   "metadata": {},
   "outputs": [
    {
     "data": {
      "text/plain": [
       "1.5"
      ]
     },
     "execution_count": 6,
     "metadata": {},
     "output_type": "execute_result"
    }
   ],
   "source": [
    "old.vercosine(60)"
   ]
  },
  {
   "cell_type": "code",
   "execution_count": 7,
   "id": "2ff910f5-67af-4d07-bb2f-967fe6e603cd",
   "metadata": {},
   "outputs": [
    {
     "data": {
      "text/plain": [
       "1.5"
      ]
     },
     "execution_count": 7,
     "metadata": {},
     "output_type": "execute_result"
    }
   ],
   "source": [
    "old.covercosine(30)"
   ]
  },
  {
   "cell_type": "code",
   "execution_count": 8,
   "id": "03e2a83e-d049-4812-9649-ff7f10b0000e",
   "metadata": {},
   "outputs": [
    {
     "data": {
      "text/plain": [
       "0.24999999999999994"
      ]
     },
     "execution_count": 8,
     "metadata": {},
     "output_type": "execute_result"
    }
   ],
   "source": [
    "old.haversine(60)"
   ]
  },
  {
   "cell_type": "code",
   "execution_count": 9,
   "id": "1401bb6b-b9c2-4be6-9865-ab4f964990ea",
   "metadata": {},
   "outputs": [
    {
     "data": {
      "text/plain": [
       "0.25"
      ]
     },
     "execution_count": 9,
     "metadata": {},
     "output_type": "execute_result"
    }
   ],
   "source": [
    "old.hacoversine(30)"
   ]
  },
  {
   "cell_type": "code",
   "execution_count": 10,
   "id": "3622613e-61dc-4f6b-b537-1893a46412a4",
   "metadata": {},
   "outputs": [
    {
     "data": {
      "text/plain": [
       "0.75"
      ]
     },
     "execution_count": 10,
     "metadata": {},
     "output_type": "execute_result"
    }
   ],
   "source": [
    "old.havercosine(60)"
   ]
  },
  {
   "cell_type": "code",
   "execution_count": 11,
   "id": "6d273168-9251-4ba2-91a6-eca88e6d03bf",
   "metadata": {},
   "outputs": [
    {
     "data": {
      "text/plain": [
       "0.75"
      ]
     },
     "execution_count": 11,
     "metadata": {},
     "output_type": "execute_result"
    }
   ],
   "source": [
    "old.hacovercosine(30)"
   ]
  },
  {
   "cell_type": "code",
   "execution_count": 12,
   "id": "9bd4a106-42ee-4822-8dfa-2c5aad061b5b",
   "metadata": {},
   "outputs": [
    {
     "data": {
      "text/plain": [
       "0.9999999999999996"
      ]
     },
     "execution_count": 12,
     "metadata": {},
     "output_type": "execute_result"
    }
   ],
   "source": [
    "old.exsecant(60)"
   ]
  },
  {
   "cell_type": "markdown",
   "id": "bf12f90b-1bcf-4761-9771-5f08ee0ec7da",
   "metadata": {},
   "source": [
    "<br><br><br>"
   ]
  },
  {
   "cell_type": "code",
   "execution_count": 13,
   "id": "b6d36e0d-3569-4614-a9f2-211d29b2b576",
   "metadata": {},
   "outputs": [
    {
     "data": {
      "text/html": [
       "<div style=\"overflow: hidden;\"><iframe src=\"/my-cool-package/files/angles/demo.html\" width=\"840\" height=\"440\" scrolling=\"no\"></div>\n"
      ],
      "text/plain": [
       "<IPython.core.display.HTML object>"
      ]
     },
     "metadata": {},
     "output_type": "display_data"
    }
   ],
   "source": [
    "%%html\n",
    "<div style=\"overflow: hidden;\"><iframe src=\"/my-cool-package/files/angles/demo.html\" width=\"840\" height=\"440\" scrolling=\"no\"></div>"
   ]
  },
  {
   "cell_type": "markdown",
   "id": "90792195-9ec9-44bf-9a07-f010f28d7fc3",
   "metadata": {},
   "source": [
    "<br><br><br>"
   ]
  },
  {
   "cell_type": "markdown",
   "id": "1a4430b2-c53b-4059-8550-31d96a3a2ca4",
   "metadata": {},
   "source": [
    "### How do we test it?"
   ]
  },
  {
   "cell_type": "markdown",
   "id": "562aa4d5-c908-4208-b499-8e9c11f219ef",
   "metadata": {},
   "source": [
    "In general, a test runs a function and compares its result to an expected value.\n",
    "\n",
    "How about this?"
   ]
  },
  {
   "cell_type": "code",
   "execution_count": 17,
   "id": "d8bf3caa-4049-4097-9280-7721b33c6917",
   "metadata": {},
   "outputs": [],
   "source": [
    "import math"
   ]
  },
  {
   "cell_type": "code",
   "execution_count": 18,
   "id": "26a85a64-740c-4630-a486-75f840879478",
   "metadata": {},
   "outputs": [],
   "source": [
    "assert old.sine(30) == math.sin(30 * math.pi / 180)"
   ]
  },
  {
   "cell_type": "markdown",
   "id": "6246a92a-00d6-4bd6-b076-41e34fe7c578",
   "metadata": {},
   "source": [
    "<br><br><br>"
   ]
  },
  {
   "cell_type": "markdown",
   "id": "23c80d2f-2975-4d84-a3c6-8956e5bc82f9",
   "metadata": {},
   "source": [
    "It works!\n",
    "\n",
    "... But it's not any different from the implementation itself."
   ]
  },
  {
   "cell_type": "code",
   "execution_count": 14,
   "id": "6d0b6106-26ce-4241-9950-e755c42b7276",
   "metadata": {},
   "outputs": [],
   "source": [
    "import inspect"
   ]
  },
  {
   "cell_type": "code",
   "execution_count": 16,
   "id": "d312e03e-897c-41f3-84c4-d9675781206a",
   "metadata": {},
   "outputs": [
    {
     "name": "stdout",
     "output_type": "stream",
     "text": [
      "def sine(θ: float) -> float:\n",
      "    \"\"\"\n",
      "    In a triangle with one right angle and another angle θ, the sine is the\n",
      "    length of the side opposite to θ divided by the length of the hypotenuse.\n",
      "\n",
      "    The word \"sine\" comes from\n",
      "\n",
      "    1. the Latin \"sinus\" (\"bosom\"),\n",
      "    2. a translation of Arabic \"جَيْب\" (\"bosom\"),\n",
      "    3. a misidentification of Arabic \"جيب\" (j-y-b),\n",
      "    4. which is derived from Sanskrit \"ज्या\" (\"sine\" or \"bowstring\").\n",
      "    \"\"\"\n",
      "\n",
      "    return math.sin(to_radians(θ))\n",
      "\n"
     ]
    }
   ],
   "source": [
    "print(inspect.getsource(old.sine))"
   ]
  },
  {
   "cell_type": "markdown",
   "id": "b9f21708-b4b7-4dc8-a4f0-c85a80ff7f70",
   "metadata": {},
   "source": [
    "Does it make any sense to have tests like the following?"
   ]
  },
  {
   "cell_type": "code",
   "execution_count": 19,
   "id": "d2de8c13-53bf-4ffc-a66e-5e6e4ac9141d",
   "metadata": {},
   "outputs": [],
   "source": [
    "assert old.sine(30) == old.sine(30)"
   ]
  },
  {
   "cell_type": "markdown",
   "id": "403b9260-ef0e-4b89-9793-8e54bc0c11ad",
   "metadata": {},
   "source": [
    "<br><br><br>"
   ]
  },
  {
   "cell_type": "markdown",
   "id": "3718ae2d-edcd-4fda-ae30-711a9b9b4f87",
   "metadata": {},
   "source": [
    "It does, a little bit.\n",
    "\n",
    "Although it can't tell you if `old.sine(30)` is returning the wrong value, it _is_ telling you that it runs without errors.\n",
    "\n",
    "It's equivalent to this test:"
   ]
  },
  {
   "cell_type": "code",
   "execution_count": 21,
   "id": "4896eeee-5f70-4c0d-812e-58de1a5358e9",
   "metadata": {},
   "outputs": [],
   "source": [
    "ignore = old.sine(30)"
   ]
  },
  {
   "cell_type": "markdown",
   "id": "b06d4cad-4c6a-48c6-a8fe-4a4a27e86abc",
   "metadata": {},
   "source": [
    "which isn't nothing."
   ]
  },
  {
   "cell_type": "markdown",
   "id": "97d3383b-1b08-4795-a36c-dde79ac6fc01",
   "metadata": {},
   "source": [
    "<br><br><br>"
   ]
  },
  {
   "cell_type": "markdown",
   "id": "e4facf00-020c-496c-85f5-671d453b0836",
   "metadata": {},
   "source": [
    "One way to make the test better: compare it to a fixed value."
   ]
  },
  {
   "cell_type": "code",
   "execution_count": 22,
   "id": "5f82ffad-8657-4bfd-a09e-fa1195c8141e",
   "metadata": {
    "editable": true,
    "slideshow": {
     "slide_type": ""
    },
    "tags": [
     "raises-exception"
    ]
   },
   "outputs": [
    {
     "ename": "AssertionError",
     "evalue": "",
     "output_type": "error",
     "traceback": [
      "\u001b[0;31m---------------------------------------------------------------------------\u001b[0m",
      "\u001b[0;31mAssertionError\u001b[0m                            Traceback (most recent call last)",
      "Cell \u001b[0;32mIn[22], line 1\u001b[0m\n\u001b[0;32m----> 1\u001b[0m \u001b[38;5;28;01massert\u001b[39;00m old\u001b[38;5;241m.\u001b[39msine(\u001b[38;5;241m30\u001b[39m) \u001b[38;5;241m==\u001b[39m \u001b[38;5;241m0.5\u001b[39m\n",
      "\u001b[0;31mAssertionError\u001b[0m: "
     ]
    }
   ],
   "source": [
    "assert old.sine(30) == 0.5"
   ]
  },
  {
   "cell_type": "markdown",
   "id": "9944ce93-33d6-4a2c-a866-69f6e8e9bc45",
   "metadata": {},
   "source": [
    "Or maybe"
   ]
  },
  {
   "cell_type": "code",
   "execution_count": 23,
   "id": "af539d9c-efb4-494c-9166-32cb96dd9c23",
   "metadata": {},
   "outputs": [],
   "source": [
    "import pytest"
   ]
  },
  {
   "cell_type": "code",
   "execution_count": 24,
   "id": "32167a7f-60bd-4d68-b801-7072762c2556",
   "metadata": {},
   "outputs": [],
   "source": [
    "assert old.sine(30) == pytest.approx(0.5)"
   ]
  },
  {
   "cell_type": "code",
   "execution_count": null,
   "id": "8548dfe1-d01f-45f2-954e-d8f84957830d",
   "metadata": {},
   "outputs": [],
   "source": []
  }
 ],
 "metadata": {
  "kernelspec": {
   "display_name": "Python 3 (ipykernel)",
   "language": "python",
   "name": "python3"
  },
  "language_info": {
   "codemirror_mode": {
    "name": "ipython",
    "version": 3
   },
   "file_extension": ".py",
   "mimetype": "text/x-python",
   "name": "python",
   "nbconvert_exporter": "python",
   "pygments_lexer": "ipython3",
   "version": "3.10.14"
  }
 },
 "nbformat": 4,
 "nbformat_minor": 5
}
