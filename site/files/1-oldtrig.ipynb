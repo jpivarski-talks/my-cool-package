{
 "cells": [
  {
   "cell_type": "code",
   "execution_count": null,
   "id": "0495911d-1aca-4b41-9be7-7a56de7a271f",
   "metadata": {},
   "outputs": [],
   "source": [
    "import piplite\n",
    "await piplite.install(\"pytest\")\n",
    "await piplite.install(\"hypothesis\")"
   ]
  },
  {
   "cell_type": "markdown",
   "id": "36f8b719-7f76-4b0c-8ce3-ea50876509bd",
   "metadata": {},
   "source": [
    "<br><br><br>"
   ]
  },
  {
   "cell_type": "markdown",
   "id": "e9b7eab9-fde3-4be7-9720-53140f897359",
   "metadata": {
    "jp-MarkdownHeadingCollapsed": true
   },
   "source": [
    "## Old trigonometry"
   ]
  },
  {
   "cell_type": "code",
   "execution_count": null,
   "id": "2c2e8e64-3985-414f-9f4b-5e6ae312cad2",
   "metadata": {},
   "outputs": [],
   "source": [
    "from my_cool_package import oldtrig as old"
   ]
  },
  {
   "cell_type": "markdown",
   "id": "403bea4a-dfea-458e-a3a6-fbae1a8ac0dc",
   "metadata": {},
   "source": [
    "<br><br><br><br><br>"
   ]
  },
  {
   "cell_type": "markdown",
   "id": "801975fe-9075-44e1-8556-0504f9bc70e6",
   "metadata": {},
   "source": [
    "This is a very useful package that renames `sin` and `cos` as \"sine\" and \"cosine\" and uses degrees, rather than radians."
   ]
  },
  {
   "cell_type": "code",
   "execution_count": null,
   "id": "a761110f-1364-44d5-8a0d-117c3cf32ee6",
   "metadata": {},
   "outputs": [],
   "source": [
    "old.sine(30)"
   ]
  },
  {
   "cell_type": "code",
   "execution_count": null,
   "id": "15db9f7c-5cf8-4f6d-a706-623c21dedbe6",
   "metadata": {},
   "outputs": [],
   "source": [
    "old.cosine(60)"
   ]
  },
  {
   "cell_type": "markdown",
   "id": "90e0c27e-7cb0-491b-9bb2-6c7ccf36e0d3",
   "metadata": {},
   "source": [
    "<br><br><br><br><br>"
   ]
  },
  {
   "cell_type": "markdown",
   "id": "7225dc4d-86e3-4da8-b777-3fee99faca55",
   "metadata": {},
   "source": [
    "It also defines some other functions that aren't often used anymore."
   ]
  },
  {
   "cell_type": "code",
   "execution_count": null,
   "id": "299d852b-b3fc-4ba9-b8f7-fe741c9eeb74",
   "metadata": {},
   "outputs": [],
   "source": [
    "old.versine(60)"
   ]
  },
  {
   "cell_type": "code",
   "execution_count": null,
   "id": "8c1f7ff2-4b37-4c26-8e4c-7d31592c3f84",
   "metadata": {},
   "outputs": [],
   "source": [
    "old.coversine(30)"
   ]
  },
  {
   "cell_type": "code",
   "execution_count": null,
   "id": "e018007f-aaf6-4777-b172-5930a33a1025",
   "metadata": {},
   "outputs": [],
   "source": [
    "old.vercosine(60)"
   ]
  },
  {
   "cell_type": "code",
   "execution_count": null,
   "id": "2ff910f5-67af-4d07-bb2f-967fe6e603cd",
   "metadata": {},
   "outputs": [],
   "source": [
    "old.covercosine(30)"
   ]
  },
  {
   "cell_type": "code",
   "execution_count": null,
   "id": "03e2a83e-d049-4812-9649-ff7f10b0000e",
   "metadata": {},
   "outputs": [],
   "source": [
    "old.haversine(60)"
   ]
  },
  {
   "cell_type": "code",
   "execution_count": null,
   "id": "1401bb6b-b9c2-4be6-9865-ab4f964990ea",
   "metadata": {},
   "outputs": [],
   "source": [
    "old.hacoversine(30)"
   ]
  },
  {
   "cell_type": "code",
   "execution_count": null,
   "id": "3622613e-61dc-4f6b-b537-1893a46412a4",
   "metadata": {},
   "outputs": [],
   "source": [
    "old.havercosine(60)"
   ]
  },
  {
   "cell_type": "code",
   "execution_count": null,
   "id": "6d273168-9251-4ba2-91a6-eca88e6d03bf",
   "metadata": {},
   "outputs": [],
   "source": [
    "old.hacovercosine(30)"
   ]
  },
  {
   "cell_type": "code",
   "execution_count": null,
   "id": "9bd4a106-42ee-4822-8dfa-2c5aad061b5b",
   "metadata": {},
   "outputs": [],
   "source": [
    "old.exsecant(60)"
   ]
  },
  {
   "cell_type": "markdown",
   "id": "bf12f90b-1bcf-4761-9771-5f08ee0ec7da",
   "metadata": {},
   "source": [
    "<br><br><br><br><br>"
   ]
  },
  {
   "cell_type": "code",
   "execution_count": null,
   "id": "b6d36e0d-3569-4614-a9f2-211d29b2b576",
   "metadata": {},
   "outputs": [],
   "source": [
    "%%html\n",
    "<div style=\"overflow: hidden;\"><iframe src=\"/my-cool-package/files/angles/demo.html\" width=\"840\" height=\"440\" scrolling=\"no\"></div>"
   ]
  },
  {
   "cell_type": "markdown",
   "id": "90792195-9ec9-44bf-9a07-f010f28d7fc3",
   "metadata": {},
   "source": [
    "<br><br><br><br><br>"
   ]
  },
  {
   "cell_type": "markdown",
   "id": "1a4430b2-c53b-4059-8550-31d96a3a2ca4",
   "metadata": {
    "jp-MarkdownHeadingCollapsed": true
   },
   "source": [
    "## How do we test it?"
   ]
  },
  {
   "cell_type": "markdown",
   "id": "562aa4d5-c908-4208-b499-8e9c11f219ef",
   "metadata": {},
   "source": [
    "In general, a test runs a function and compares its result to an expected value.\n",
    "\n",
    "How about this?"
   ]
  },
  {
   "cell_type": "code",
   "execution_count": null,
   "id": "d8bf3caa-4049-4097-9280-7721b33c6917",
   "metadata": {},
   "outputs": [],
   "source": [
    "import math"
   ]
  },
  {
   "cell_type": "code",
   "execution_count": null,
   "id": "26a85a64-740c-4630-a486-75f840879478",
   "metadata": {},
   "outputs": [],
   "source": [
    "assert old.sine(30) == math.sin(30 * math.pi / 180)"
   ]
  },
  {
   "cell_type": "markdown",
   "id": "6246a92a-00d6-4bd6-b076-41e34fe7c578",
   "metadata": {},
   "source": [
    "<br><br><br><br><br>"
   ]
  },
  {
   "cell_type": "markdown",
   "id": "23c80d2f-2975-4d84-a3c6-8956e5bc82f9",
   "metadata": {},
   "source": [
    "It works!\n",
    "\n",
    "... But it's not any different from the implementation itself."
   ]
  },
  {
   "cell_type": "code",
   "execution_count": null,
   "id": "6d0b6106-26ce-4241-9950-e755c42b7276",
   "metadata": {},
   "outputs": [],
   "source": [
    "import inspect"
   ]
  },
  {
   "cell_type": "code",
   "execution_count": null,
   "id": "d312e03e-897c-41f3-84c4-d9675781206a",
   "metadata": {},
   "outputs": [],
   "source": [
    "print(inspect.getsource(old.sine))"
   ]
  },
  {
   "cell_type": "markdown",
   "id": "b9f21708-b4b7-4dc8-a4f0-c85a80ff7f70",
   "metadata": {},
   "source": [
    "Does it make any sense to have tests like the following?"
   ]
  },
  {
   "cell_type": "code",
   "execution_count": null,
   "id": "d2de8c13-53bf-4ffc-a66e-5e6e4ac9141d",
   "metadata": {},
   "outputs": [],
   "source": [
    "assert old.sine(30) == old.sine(30)"
   ]
  },
  {
   "cell_type": "markdown",
   "id": "403b9260-ef0e-4b89-9793-8e54bc0c11ad",
   "metadata": {},
   "source": [
    "<br><br><br><br><br>"
   ]
  },
  {
   "cell_type": "markdown",
   "id": "3718ae2d-edcd-4fda-ae30-711a9b9b4f87",
   "metadata": {},
   "source": [
    "It does, a little bit.\n",
    "\n",
    "Although it can't tell you if `old.sine(30)` is returning the wrong value, it _is_ telling you that it runs without errors.\n",
    "\n",
    "It's equivalent to this test:"
   ]
  },
  {
   "cell_type": "code",
   "execution_count": null,
   "id": "4896eeee-5f70-4c0d-812e-58de1a5358e9",
   "metadata": {},
   "outputs": [],
   "source": [
    "ignore = old.sine(30)"
   ]
  },
  {
   "cell_type": "markdown",
   "id": "b06d4cad-4c6a-48c6-a8fe-4a4a27e86abc",
   "metadata": {},
   "source": [
    "which isn't nothing."
   ]
  },
  {
   "cell_type": "markdown",
   "id": "97d3383b-1b08-4795-a36c-dde79ac6fc01",
   "metadata": {},
   "source": [
    "<br><br><br><br><br>"
   ]
  },
  {
   "cell_type": "markdown",
   "id": "e4facf00-020c-496c-85f5-671d453b0836",
   "metadata": {},
   "source": [
    "One way to make the test better: compare it to a fixed value."
   ]
  },
  {
   "cell_type": "code",
   "execution_count": null,
   "id": "5f82ffad-8657-4bfd-a09e-fa1195c8141e",
   "metadata": {
    "editable": true,
    "slideshow": {
     "slide_type": ""
    },
    "tags": [
     "raises-exception"
    ]
   },
   "outputs": [],
   "source": [
    "assert old.sine(30) == 0.5"
   ]
  },
  {
   "cell_type": "markdown",
   "id": "9944ce93-33d6-4a2c-a866-69f6e8e9bc45",
   "metadata": {},
   "source": [
    "Or maybe"
   ]
  },
  {
   "cell_type": "code",
   "execution_count": null,
   "id": "af539d9c-efb4-494c-9166-32cb96dd9c23",
   "metadata": {},
   "outputs": [],
   "source": [
    "import pytest"
   ]
  },
  {
   "cell_type": "code",
   "execution_count": null,
   "id": "32167a7f-60bd-4d68-b801-7072762c2556",
   "metadata": {},
   "outputs": [],
   "source": [
    "assert old.sine(30) == pytest.approx(0.5)"
   ]
  },
  {
   "cell_type": "markdown",
   "id": "2096479a-9da0-420d-8330-51f873d641db",
   "metadata": {},
   "source": [
    "<br><br><br><br><br>"
   ]
  },
  {
   "cell_type": "markdown",
   "id": "b49bba63-5dcf-4347-8ba8-8b49652ad1ae",
   "metadata": {},
   "source": [
    "This encodes our expectation, and it's independent of implementation (which would have different round-off errors).\n",
    "\n",
    "One value isn't enough. Let's do a few, in qualitatively different regions of the circle."
   ]
  },
  {
   "cell_type": "code",
   "execution_count": null,
   "id": "29e0e441-e7fa-4618-82fc-ff3a1c74e48e",
   "metadata": {},
   "outputs": [],
   "source": [
    "argument_expectation_pairs = [\n",
    "    (-10, -0.17364817766693033),  # a negative value\n",
    "    (0, 0),                       # 0°\n",
    "    (10, 0.17364817766693033),    # a little above 0°\n",
    "    (30, 0.5),                    # special angle 30°\n",
    "    (45, 1 / math.sqrt(2)),       # special angle 45°\n",
    "    (60, math.sqrt(3) / 2),       # special angle 60°\n",
    "    (80, 0.984807753012208),      # a little below 90°\n",
    "    (90, 1),                      # 90°\n",
    "    (100, 0.984807753012208),     # a little above 90°\n",
    "    (180, 0),                     # 180°\n",
    "    (270, -1),                    # 270°\n",
    "    (360, 0),                     # 360°\n",
    "    (370, 0.17364817766693033),   # a little above 360°\n",
    "]\n",
    "\n",
    "for θ, expected in argument_expectation_pairs:\n",
    "    assert old.sine(θ) == pytest.approx(expected)"
   ]
  },
  {
   "cell_type": "markdown",
   "id": "eed24db6-c60c-430b-8b29-25135b5ae701",
   "metadata": {},
   "source": [
    "<br><br><br><br><br>"
   ]
  },
  {
   "cell_type": "markdown",
   "id": "bde90f62-6372-44bf-b637-fb7099c111be",
   "metadata": {},
   "source": [
    "Now what about the weird values like infinity and not-a-number?"
   ]
  },
  {
   "cell_type": "code",
   "execution_count": null,
   "id": "1ed09c91-f19a-487f-9f26-aaed3f4ab4cf",
   "metadata": {},
   "outputs": [],
   "source": [
    "assert math.isnan(old.sine(math.nan))"
   ]
  },
  {
   "cell_type": "code",
   "execution_count": null,
   "id": "584850ee-b939-48a5-86e6-b03de819837d",
   "metadata": {},
   "outputs": [],
   "source": [
    "try:\n",
    "    old.sine(math.inf)\n",
    "except ValueError:\n",
    "    pass                   # we expect this case to raise a ValueError\n",
    "else:\n",
    "    raise AssertionError   # it's a problem if it doesn't!"
   ]
  },
  {
   "cell_type": "markdown",
   "id": "c60eaf44-d990-4f28-b2d2-fc5046a99b97",
   "metadata": {},
   "source": [
    "<br><br><br><br><br>"
   ]
  },
  {
   "cell_type": "markdown",
   "id": "13d9cb4a-49a8-48e0-a7bf-b5697621d4c6",
   "metadata": {},
   "source": [
    "How did I get expected values for generic values, like `old.sine(10)`?\n",
    "\n",
    "Answer: I computed them and pasted the values in.\n",
    "\n",
    "Isn't this cheating?"
   ]
  },
  {
   "cell_type": "markdown",
   "id": "1d8e2a20-b503-4cd0-acae-8a8f516d8bc1",
   "metadata": {},
   "source": [
    "<br><br><br><br><br>"
   ]
  },
  {
   "cell_type": "markdown",
   "id": "de7e1220-6a05-4c8e-be91-72c8f3c2feaa",
   "metadata": {},
   "source": [
    "This method does _not_ verify that `old.sine(10) == 0.17364817766693033` is correct.\n",
    "\n",
    "But it _does_ verify that the value does not change.\n",
    "\n",
    "Sometimes, that's all you need."
   ]
  },
  {
   "cell_type": "markdown",
   "id": "483dd9d0-5ac6-4621-b91c-7985698fd70c",
   "metadata": {},
   "source": [
    "<br><br><br><br><br>"
   ]
  },
  {
   "attachments": {
    "42e6c31c-ffcb-4eed-88d8-37eadb5b8660.jpg": {
     "image/jpeg": "[encoded data removed]"
    }
   },
   "cell_type": "markdown",
   "id": "4d39ab11-1129-4240-8792-02770ccee98f",
   "metadata": {},
   "source": [
    "**How I like to think about it:**\n",
    "\n",
    "You're building a balsa wood airplaine and you've finished some pieces but not others.\n",
    "\n",
    "To keep the finished pieces from moving, you hold them in place with pins.\n",
    "\n",
    "![](attachment:42e6c31c-ffcb-4eed-88d8-37eadb5b8660.jpg)\n",
    "\n",
    "(Credit: [Build your first flying scale Jet](http://www.ffscale.co.uk/f84d.htm))"
   ]
  },
  {
   "cell_type": "markdown",
   "id": "3d1be2ff-11ff-45c8-b33e-db887e2a5a6c",
   "metadata": {},
   "source": [
    "<br><br><br><br><br>"
   ]
  },
  {
   "cell_type": "markdown",
   "id": "3d582a2c-2bdf-42c6-a6d1-0e94d92e2751",
   "metadata": {
    "jp-MarkdownHeadingCollapsed": true
   },
   "source": [
    "## Property-based testing"
   ]
  },
  {
   "cell_type": "markdown",
   "id": "f605ebce-b5cd-445e-be2a-9f4db0158f82",
   "metadata": {},
   "source": [
    "Sometimes, we can do better, if we can identify any invariants of the functions we want to test.\n",
    "\n",
    "For sine and cosine,\n",
    "\n",
    "$$(\\sin \\theta)^2 + (\\cos \\theta)^2 = 1$$"
   ]
  },
  {
   "cell_type": "code",
   "execution_count": null,
   "id": "9967091e-f5ce-4aa3-af2b-ab7e03452504",
   "metadata": {},
   "outputs": [],
   "source": [
    "import random"
   ]
  },
  {
   "cell_type": "code",
   "execution_count": null,
   "id": "cc3a647a-a48d-4fba-8f97-c79e5eea03bb",
   "metadata": {},
   "outputs": [],
   "source": [
    "random.uniform(-370, 370)"
   ]
  },
  {
   "cell_type": "code",
   "execution_count": null,
   "id": "91c7803d-dc54-4edb-8b2f-713129b1fca2",
   "metadata": {},
   "outputs": [],
   "source": [
    "θ = random.uniform(-370, 370)\n",
    "assert old.sine(θ)**2 + old.cosine(θ)**2 == pytest.approx(1)"
   ]
  },
  {
   "cell_type": "code",
   "execution_count": null,
   "id": "e4433ea2-e293-4866-85d0-bbd8ea9e84af",
   "metadata": {},
   "outputs": [],
   "source": [
    "for _ in range(1000):\n",
    "    θ = random.uniform(-370, 370)\n",
    "    assert old.sine(θ)**2 + old.cosine(θ)**2 == pytest.approx(1)"
   ]
  },
  {
   "cell_type": "markdown",
   "id": "7fd3b432-b16d-4b4d-a46d-5777ceedb395",
   "metadata": {},
   "source": [
    "These trigonometry functions have a lot of invariants, but I'll only use this one for the purposes of illustration."
   ]
  },
  {
   "cell_type": "markdown",
   "id": "5de26d11-6c85-48d6-8b46-35cf5cbbe654",
   "metadata": {},
   "source": [
    "<br><br><br><br><br>"
   ]
  },
  {
   "cell_type": "markdown",
   "id": "d14b19f8-7bba-42ec-8a36-a2bcc5302e88",
   "metadata": {},
   "source": [
    "Before you put randomized tests in our test suite, what would you do if a randomized test fails?\n",
    "\n",
    "How would you debug it, if the test depends on a random value?"
   ]
  },
  {
   "cell_type": "markdown",
   "id": "99838fab-044e-479e-9c2e-788ae344b64c",
   "metadata": {},
   "source": [
    "<br><br><br><br><br>"
   ]
  },
  {
   "cell_type": "markdown",
   "id": "b711a241-39b8-442a-96bc-f76340ca120f",
   "metadata": {},
   "source": [
    "Maybe ensure that the value gets printed before testing?\n",
    "\n",
    "(What if the test depends on a lot of random values? This \"old trigonometry\" example is a very simple codebase.)"
   ]
  },
  {
   "cell_type": "markdown",
   "id": "41eb3e06-d95c-4de4-9177-1ed8f01abe34",
   "metadata": {},
   "source": [
    "<br><br><br><br><br>"
   ]
  },
  {
   "cell_type": "markdown",
   "id": "ee143f9b-5ff0-428d-9419-05fd20d8c4ae",
   "metadata": {},
   "source": [
    "Randomly select a set of values once and re-use that set?\n",
    "\n",
    "This is a good one: it's called setting a random seed."
   ]
  },
  {
   "cell_type": "code",
   "execution_count": null,
   "id": "a4167344-bf02-47b3-b9c3-009985ca035a",
   "metadata": {},
   "outputs": [],
   "source": [
    "random.seed(12345)\n",
    "\n",
    "random.uniform(-370, 370)"
   ]
  },
  {
   "cell_type": "markdown",
   "id": "4210641d-1fb6-488a-a967-1c7e255c2260",
   "metadata": {},
   "source": [
    "<br><br><br><br><br>"
   ]
  },
  {
   "cell_type": "markdown",
   "id": "81e17e71-62d6-4383-95da-09ff26a8ea4d",
   "metadata": {
    "jp-MarkdownHeadingCollapsed": true
   },
   "source": [
    "## Hypothesis"
   ]
  },
  {
   "cell_type": "markdown",
   "id": "f32a24b7-0ea7-4435-ba89-155995d52e9c",
   "metadata": {},
   "source": [
    "Hypothesis is a library for property-based testing. It generates test examples that are likely to be problematic."
   ]
  },
  {
   "cell_type": "code",
   "execution_count": null,
   "id": "1edd62d2-586d-4166-91f3-7d4393d7b324",
   "metadata": {},
   "outputs": [],
   "source": [
    "import hypothesis\n",
    "from hypothesis import given, strategies"
   ]
  },
  {
   "cell_type": "code",
   "execution_count": null,
   "id": "433671e3-eda2-47aa-9cad-8fc6b4536d12",
   "metadata": {
    "editable": true,
    "slideshow": {
     "slide_type": ""
    },
    "tags": [
     "raises-exception"
    ]
   },
   "outputs": [],
   "source": [
    "hypothesis.seed(12345)\n",
    "\n",
    "@given(θ=strategies.floats())\n",
    "def test_property(θ):\n",
    "    print(θ)\n",
    "    assert old.sine(θ)**2 + old.cosine(θ)**2 == pytest.approx(1)\n",
    "\n",
    "test_property()"
   ]
  },
  {
   "cell_type": "markdown",
   "id": "e76af806-57a7-4797-ab13-57ddb00924ad",
   "metadata": {},
   "source": [
    "<br><br><br><br><br>"
   ]
  },
  {
   "cell_type": "markdown",
   "id": "290e7138-a84c-48bb-a618-b93e731562d8",
   "metadata": {},
   "source": [
    "See also:"
   ]
  },
  {
   "cell_type": "code",
   "execution_count": null,
   "id": "69131fe8-26bb-4851-bf0b-85bea4416b5d",
   "metadata": {},
   "outputs": [],
   "source": [
    "hypothesis.seed(12345)\n",
    "\n",
    "@given(x=strategies.booleans(), y=strategies.booleans(), z=strategies.booleans())\n",
    "def just_print(x, y, z):\n",
    "    print(x, y, z)\n",
    "\n",
    "just_print()"
   ]
  },
  {
   "cell_type": "code",
   "execution_count": null,
   "id": "d095b4fd-5832-453e-9245-748fe231dd6a",
   "metadata": {},
   "outputs": [],
   "source": [
    "hypothesis.seed(12345)\n",
    "\n",
    "@given(x=strategies.integers())\n",
    "def just_print(x):\n",
    "    print(x)\n",
    "\n",
    "just_print()"
   ]
  },
  {
   "cell_type": "code",
   "execution_count": null,
   "id": "a7e16027-9589-4074-9253-25c54aa2579b",
   "metadata": {},
   "outputs": [],
   "source": [
    "hypothesis.seed(12345)\n",
    "\n",
    "@given(x=strategies.text())\n",
    "def just_print(x):\n",
    "    print(x)\n",
    "\n",
    "just_print()"
   ]
  },
  {
   "cell_type": "code",
   "execution_count": null,
   "id": "37c7c5af-cf3e-40a0-923a-30900e84d2af",
   "metadata": {},
   "outputs": [],
   "source": [
    "hypothesis.seed(12345)\n",
    "\n",
    "@given(x=strategies.datetimes())\n",
    "def just_print(x):\n",
    "    print(x)\n",
    "\n",
    "just_print()"
   ]
  },
  {
   "cell_type": "code",
   "execution_count": null,
   "id": "d0515953-a086-4719-a643-5ed07416429f",
   "metadata": {},
   "outputs": [],
   "source": [
    "hypothesis.seed(12345)\n",
    "\n",
    "@given(x=strategies.ip_addresses())\n",
    "def just_print(x):\n",
    "    print(x)\n",
    "\n",
    "just_print()"
   ]
  },
  {
   "cell_type": "markdown",
   "id": "b75bb5c5-3105-4570-910f-14e00f2d639f",
   "metadata": {},
   "source": [
    "And similarly for many types.\n",
    "\n",
    "Notice that they're not uniformly random: they're biased toward common and problematic values."
   ]
  },
  {
   "cell_type": "markdown",
   "id": "83565d32-2311-4934-9687-b39b922009c1",
   "metadata": {},
   "source": [
    "<br><br><br><br><br>"
   ]
  },
  {
   "cell_type": "markdown",
   "id": "ee394672-e832-44e1-b6c2-ced9d562f264",
   "metadata": {
    "jp-MarkdownHeadingCollapsed": true
   },
   "source": [
    "## Let's see those tests!"
   ]
  },
  {
   "cell_type": "markdown",
   "id": "39bdabb8-e16b-4de7-88b7-979d2d52462e",
   "metadata": {},
   "source": [
    "* [tests/test_0001_oldtrig.py](tests/test_0001_oldtrig.py)\n",
    "* [tests/test_0002_oldtrig_hypothesis.py](tests/test_0002_oldtrig_hypothesis.py)\n",
    "* [tests/conftest.py](tests/conftest.py) _(optional)_"
   ]
  },
  {
   "cell_type": "markdown",
   "id": "20fc3bd2-48b5-449c-bea5-3011e0924fcd",
   "metadata": {},
   "source": [
    "<br><br><br><br><br>"
   ]
  },
  {
   "cell_type": "markdown",
   "id": "ebdf8fe2-14fe-446f-8933-cd3e6614d37c",
   "metadata": {},
   "source": [
    "Why is it numbered?\n",
    "\n",
    "I personally encourage naming test files with increasing numbers to see at a glance when a batch of tests were added,\n",
    "\n",
    "* because it helps to know what part of a project's life-cycle they're intended to test,\n",
    "* even better if the number is the GitHub issue or PR number,\n",
    "* to get used to thinking of tests as a \"pile of stuff,\" rather than carefully organized code. You want to be psychologically ready to add any test at any time, without worrying about organizing it.\n",
    "\n",
    "See [what this looks like in a big codebase](https://github.com/scikit-hep/awkward/tree/main/tests)."
   ]
  },
  {
   "cell_type": "markdown",
   "id": "0dd95ab3-750f-43db-bdf5-4cd0743672eb",
   "metadata": {},
   "source": [
    "<br><br><br><br><br>"
   ]
  },
  {
   "cell_type": "markdown",
   "id": "c0977132-dd6e-45b1-9b5f-0f6a199cbbc7",
   "metadata": {},
   "source": [
    "Now let's run it. Normally, you'd do this on the terminal with\n",
    "\n",
    "```bash\n",
    "pytest\n",
    "```\n",
    "\n",
    "or\n",
    "\n",
    "```bash\n",
    "pytest -v tests\n",
    "```\n",
    "\n",
    "but we're in JupyterLite (no terminal)."
   ]
  },
  {
   "cell_type": "code",
   "execution_count": null,
   "id": "2ff9d979-07c7-40e3-8a26-ffeb981a7b83",
   "metadata": {},
   "outputs": [],
   "source": [
    "pytest.main([\"-v\", \"tests/test_0001_oldtrig.py\", \"tests/test_0002_oldtrig_hypothesis.py\"])"
   ]
  }
 ],
 "metadata": {
  "kernelspec": {
   "display_name": "Python 3 (ipykernel)",
   "language": "python",
   "name": "python3"
  },
  "language_info": {
   "codemirror_mode": {
    "name": "ipython",
    "version": 3
   },
   "file_extension": ".py",
   "mimetype": "text/x-python",
   "name": "python",
   "nbconvert_exporter": "python",
   "pygments_lexer": "ipython3",
   "version": "3.10.14"
  }
 },
 "nbformat": 4,
 "nbformat_minor": 5
}
