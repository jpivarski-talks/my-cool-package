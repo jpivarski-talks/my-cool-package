{
 "cells": [
  {
   "cell_type": "code",
   "execution_count": null,
   "id": "9b56bf36-9434-4c33-917f-000383e957d3",
   "metadata": {},
   "outputs": [],
   "source": [
    "import piplite\n",
    "await piplite.install(\"numpy\")\n",
    "await piplite.install(\"matplotlib\")\n",
    "await piplite.install(\"pytest\")"
   ]
  },
  {
   "cell_type": "markdown",
   "id": "ffeadd5b-89c0-4b85-9c94-8d36fd5253a2",
   "metadata": {},
   "source": [
    "<br><br><br>"
   ]
  },
  {
   "cell_type": "markdown",
   "id": "7b13ee22-7b8d-4ab3-a8fb-fcc9eb7c206a",
   "metadata": {
    "jp-MarkdownHeadingCollapsed": true
   },
   "source": [
    "## Orbitty"
   ]
  },
  {
   "cell_type": "code",
   "execution_count": null,
   "id": "c103a33e-b1e9-4edc-bd87-38b45f194be9",
   "metadata": {},
   "outputs": [],
   "source": [
    "from my_cool_package import orbitty"
   ]
  },
  {
   "cell_type": "markdown",
   "id": "51a99fc4-5deb-4113-9b65-e7d37bd46eb4",
   "metadata": {},
   "source": [
    "<br><br><br><br><br>"
   ]
  },
  {
   "attachments": {},
   "cell_type": "markdown",
   "id": "71a1b3a8-6ffe-4b84-becd-ec329a4f8240",
   "metadata": {},
   "source": [
    "This is a little simulation of gravitational forces.\n",
    "\n",
    "Look! A comet!"
   ]
  },
  {
   "cell_type": "code",
   "execution_count": null,
   "id": "e4b75df5-04cb-4179-859c-ee3ee0cc80af",
   "metadata": {},
   "outputs": [],
   "source": [
    "system = orbitty.System(\n",
    "    m=[1000, 1], x=[[0, 0, 0], [0, 10, 0]], p=[[10, 0, 0], [-10, 0, 0]]\n",
    ")\n",
    "system.steps(300)\n",
    "system.plot()"
   ]
  },
  {
   "cell_type": "markdown",
   "id": "77c36701-0cb4-4f75-853b-30574eda77fd",
   "metadata": {},
   "source": [
    "A moon!"
   ]
  },
  {
   "cell_type": "code",
   "execution_count": null,
   "id": "4a0c327b-1a49-4933-b5e1-9e0d4198cd7d",
   "metadata": {},
   "outputs": [],
   "source": [
    "system = orbitty.System(\n",
    "    m=[1000, 1, 1],\n",
    "    x=[[0, 0, 0], [0, 10, 0], [0, 11, 0]],\n",
    "    p=[[0, 0, 0], [-16, 0, 0], [-13, 0, 0]],\n",
    ")\n",
    "system.steps(600)\n",
    "system.plot()"
   ]
  },
  {
   "cell_type": "markdown",
   "id": "2ef63f58-07fe-449f-a66e-deea4f6b1bc8",
   "metadata": {},
   "source": [
    "The three-body problem!"
   ]
  },
  {
   "cell_type": "code",
   "execution_count": null,
   "id": "2149b721-d831-4919-9ed6-155d9cd976a5",
   "metadata": {},
   "outputs": [],
   "source": [
    "p1 = 0.347111\n",
    "p2 = 0.532728\n",
    "system = orbitty.System(\n",
    "    m=[1, 1, 1],\n",
    "    x=[[-1, 0, 0], [1, 0, 0], [0, 0, 0]],\n",
    "    p=[[p1, p2, 0], [p1, p2, 0], [-2 * p1, -2 * p2, 0]],\n",
    ")\n",
    "system.G = 1\n",
    "system.steps(1000, dt=0.01)\n",
    "system.plot()"
   ]
  },
  {
   "cell_type": "markdown",
   "id": "01d23b03-a430-4e61-94bf-a85837d034da",
   "metadata": {},
   "source": [
    "A whole lot of particles!"
   ]
  },
  {
   "cell_type": "code",
   "execution_count": null,
   "id": "fed1e4bf-c30a-4661-b18e-99f42398be48",
   "metadata": {},
   "outputs": [],
   "source": [
    "system = orbitty.System.random(\n",
    "    num_particles=20,\n",
    "    num_dimensions=3,\n",
    "    mass_mean=10,\n",
    "    mass_width=1,\n",
    "    x_width=100,\n",
    "    p_width=10,\n",
    ")\n",
    "system.steps(10000, dt=0.1)\n",
    "system.plot()"
   ]
  },
  {
   "cell_type": "markdown",
   "id": "3f1e6bb7-f576-430d-8610-571021f1a0f8",
   "metadata": {},
   "source": [
    "<br><br><br><br><br>"
   ]
  },
  {
   "cell_type": "markdown",
   "id": "e5010dc6-3727-45c2-a7b0-69996a2df0e4",
   "metadata": {
    "jp-MarkdownHeadingCollapsed": true
   },
   "source": [
    "## How would you write tests for _this_?"
   ]
  },
  {
   "cell_type": "markdown",
   "id": "e178a07e-258f-497d-8076-f8572c1f3eac",
   "metadata": {},
   "source": [
    "It's hard to test a plot.\n",
    "\n",
    "Even if you get the plot as an image or a video file and test it against an expected image/video,\n",
    "\n",
    "* you'd have to compare the _uncompressed_ image/video, since minor differences in codec versions can make the compressed bytes differ when nothing has really changed,\n",
    "* the test might be run on a computer with different plotting backend, making the plots differ in irrelevant ways (margins, fonts, ...),\n",
    "* if you ever want to add tests, you'll have to go through a complicated process of making expected images/videos.\n",
    "\n",
    "It's not worth it!"
   ]
  },
  {
   "cell_type": "markdown",
   "id": "e3dc454f-c3ed-4064-b204-3d9b8b2d40dd",
   "metadata": {},
   "source": [
    "<br><br><br><br><br>"
   ]
  },
  {
   "cell_type": "markdown",
   "id": "7c473e80-c6b4-4939-82d5-bcefd60d5c71",
   "metadata": {},
   "source": [
    "We have to somehow get raw values:"
   ]
  },
  {
   "cell_type": "code",
   "execution_count": null,
   "id": "7ff2e1fd-db9b-41a1-81c2-f3d2e5f9f574",
   "metadata": {},
   "outputs": [],
   "source": [
    "import numpy as np"
   ]
  },
  {
   "cell_type": "code",
   "execution_count": null,
   "id": "35e734cd-8b96-42b7-9f38-26df6650c324",
   "metadata": {},
   "outputs": [],
   "source": [
    "system = orbitty.System(\n",
    "    m=[1000, 1], x=[[0, 0, 0], [0, 10, 0]], p=[[10, 0, 0], [-10, 0, 0]]\n",
    ")\n",
    "system.steps(1000)"
   ]
  },
  {
   "cell_type": "code",
   "execution_count": null,
   "id": "6e9a43dc-327f-4737-96c9-38c82a0117eb",
   "metadata": {},
   "outputs": [],
   "source": [
    "system.t_history"
   ]
  },
  {
   "cell_type": "code",
   "execution_count": null,
   "id": "74cd59e9-0829-4a4a-a90e-420bd11f150c",
   "metadata": {},
   "outputs": [],
   "source": [
    "system.x_history"
   ]
  },
  {
   "cell_type": "code",
   "execution_count": null,
   "id": "0203af85-d8af-49c4-99a7-c8d9581b462e",
   "metadata": {},
   "outputs": [],
   "source": [
    "system.p_history"
   ]
  },
  {
   "cell_type": "markdown",
   "id": "438da987-00b0-42da-9b2b-6eda145951b5",
   "metadata": {},
   "source": [
    "<br><br><br><br><br>"
   ]
  },
  {
   "cell_type": "markdown",
   "id": "9b08fb59-84c7-4bae-8fa2-26859ab66ee5",
   "metadata": {},
   "source": [
    "These arrays are too big to write verbatim in the source code (8950 lines after formatting), but not too large to check into git (71 kB).\n",
    "\n",
    "Save them in some stable format (JSON, Pickle, HDF5, ROOT, ...) and check them into the repo.\n",
    "\n",
    "I've already done this, so let's just check."
   ]
  },
  {
   "cell_type": "code",
   "execution_count": null,
   "id": "daf79669-d72f-4def-afff-c1d6bb900fc9",
   "metadata": {},
   "outputs": [],
   "source": [
    "import pickle"
   ]
  },
  {
   "cell_type": "code",
   "execution_count": null,
   "id": "99ab3c4e-939f-4877-8771-d84d3374c502",
   "metadata": {},
   "outputs": [],
   "source": [
    "with open(\"tests/samples/orbitty-samples.pkl\", \"rb\") as file:\n",
    "    t_history, x_history, p_history = pickle.load(file)"
   ]
  },
  {
   "cell_type": "code",
   "execution_count": null,
   "id": "ca3e561e-84ae-4fd0-8cf6-f57d1d1e7e91",
   "metadata": {},
   "outputs": [],
   "source": [
    "np.testing.assert_allclose(system.t_history, t_history)"
   ]
  },
  {
   "cell_type": "code",
   "execution_count": null,
   "id": "98d2498f-46c7-4163-ba34-c5fb72caa0b8",
   "metadata": {},
   "outputs": [],
   "source": [
    "np.testing.assert_allclose(system.x_history, x_history)"
   ]
  },
  {
   "cell_type": "code",
   "execution_count": null,
   "id": "37905991-48c7-4340-bdb3-c722ffef61ac",
   "metadata": {},
   "outputs": [],
   "source": [
    "np.testing.assert_allclose(system.p_history, p_history)"
   ]
  },
  {
   "cell_type": "markdown",
   "id": "e4c9fc9c-a1d5-4fe9-88f4-099037a9f7a0",
   "metadata": {},
   "source": [
    "<br><br><br><br><br>"
   ]
  },
  {
   "cell_type": "markdown",
   "id": "9acb52f8-f64a-4ba3-a5f1-b0cbc2fd78ef",
   "metadata": {
    "jp-MarkdownHeadingCollapsed": true
   },
   "source": [
    "### Property-based testing"
   ]
  },
  {
   "cell_type": "markdown",
   "id": "a5ef5d4d-7186-4844-b7a6-2c42289ab31d",
   "metadata": {},
   "source": [
    "Physics question: what are the invariants of motion for this physical system?"
   ]
  },
  {
   "cell_type": "code",
   "execution_count": null,
   "id": "074019f2-5b01-48c6-8821-a6456c0f109a",
   "metadata": {},
   "outputs": [],
   "source": [
    "import pytest"
   ]
  },
  {
   "cell_type": "markdown",
   "id": "0d2e0431-d695-4d29-9c40-b036c3fa7293",
   "metadata": {
    "jp-MarkdownHeadingCollapsed": true
   },
   "source": [
    "#### One"
   ]
  },
  {
   "cell_type": "code",
   "execution_count": null,
   "id": "b7839b94-f80d-4cc2-8fe6-563878156c32",
   "metadata": {},
   "outputs": [],
   "source": [
    "def total_momentum(system):\n",
    "    return np.sum(system.p, axis=0).tolist()"
   ]
  },
  {
   "cell_type": "markdown",
   "id": "130d3582-ac93-4841-8b50-e207365a401e",
   "metadata": {
    "jp-MarkdownHeadingCollapsed": true
   },
   "source": [
    "#### Two"
   ]
  },
  {
   "cell_type": "code",
   "execution_count": null,
   "id": "e4e0fdaf-b5b6-4d94-85c2-f9676ab90f38",
   "metadata": {},
   "outputs": [],
   "source": [
    "def total_energy(system):\n",
    "    # KE = 1/2 m |v|^2 and p = mv, so KE = 1/2 |p|^2 / m\n",
    "    kinetic = np.sum(0.5 * np.sum(system.p**2, axis=1) / system.m)\n",
    "\n",
    "    # gravitational force -> potential integration in 3D\n",
    "    assert system.num_dimensions == 3\n",
    "    # indexes to pick out (particle 1, particle 2) pairs, for all pairs\n",
    "    p1, p2 = np.triu_indices(len(system.x), k=1)\n",
    "    # pairwise (pw) displacements between all particle pairs\n",
    "    pw_displacement = system.x[p2] - system.x[p1]\n",
    "    # pairwise displacement is a sum in quadrature over all dimensions\n",
    "    pw_distance = np.sqrt(np.sum(pw_displacement**2, axis=-1))\n",
    "    # PE = -G m1 m2 / distance (for each pair)\n",
    "    pw_potential = -system.G * system.m[p1] * system.m[p2] / pw_distance\n",
    "    # sum over pairs to get the potential for each particle\n",
    "    particle_potential = np.zeros_like(system.m)\n",
    "    np.add.at(particle_potential, p1, pw_potential)\n",
    "    np.add.at(particle_potential, p2, pw_potential)\n",
    "    # avoid double-counting (particle 1, particle 2) and (particle 2, particle 1)\n",
    "    potential = 0.5 * np.sum(particle_potential)\n",
    "\n",
    "    return potential + kinetic"
   ]
  },
  {
   "cell_type": "markdown",
   "id": "948fe8db-874c-440f-963f-acde2bed61e1",
   "metadata": {
    "jp-MarkdownHeadingCollapsed": true
   },
   "source": [
    "#### Three"
   ]
  },
  {
   "cell_type": "code",
   "execution_count": null,
   "id": "2cf2d4a0-1875-4b8c-8fdf-8977c5fe3d78",
   "metadata": {},
   "outputs": [],
   "source": [
    "def center_of_mass(system):\n",
    "    return np.sum(\n",
    "        system.m[:, np.newaxis] * system.x / np.sum(system.m), axis=0\n",
    "    ).tolist()"
   ]
  },
  {
   "cell_type": "markdown",
   "id": "7ca6f01c-7780-460f-afeb-2f6ce46591a6",
   "metadata": {},
   "source": [
    "will move linearly.\n",
    "\n",
    "If the initial momentum is zero, then this is a constant."
   ]
  },
  {
   "cell_type": "markdown",
   "id": "e8f541e3-8de1-4ab5-9c6a-244b983cc957",
   "metadata": {
    "jp-MarkdownHeadingCollapsed": true
   },
   "source": [
    "#### More?"
   ]
  },
  {
   "cell_type": "markdown",
   "id": "c42232a9-e45c-4b66-aa5f-94d6d581f90a",
   "metadata": {},
   "source": [
    "Maybe Kepler's laws of motion, but those are equivalent to the above.\n",
    "\n",
    "Liouville's theorem! The volume covered by the particles in $\\vec{x}$-$\\vec{p}$ space should be constant. (I haven't tested this.)"
   ]
  },
  {
   "cell_type": "markdown",
   "id": "cb7ec6dd-f513-47ac-aa74-2c203a58e616",
   "metadata": {},
   "source": [
    "<br><br><br><br><br>"
   ]
  },
  {
   "cell_type": "markdown",
   "id": "68563c67-ffe7-4cc1-b8c3-bf6a76b687a7",
   "metadata": {
    "jp-MarkdownHeadingCollapsed": true
   },
   "source": [
    "### Applying them"
   ]
  },
  {
   "cell_type": "markdown",
   "id": "5d811921-5479-46c4-ac1f-68c73c5b25dd",
   "metadata": {
    "jp-MarkdownHeadingCollapsed": true
   },
   "source": [
    "#### Center of mass on the comet"
   ]
  },
  {
   "cell_type": "code",
   "execution_count": null,
   "id": "394c23c0-fc87-4645-b2a5-774905019d5d",
   "metadata": {
    "editable": true,
    "slideshow": {
     "slide_type": ""
    },
    "tags": [
     "raises-exception"
    ]
   },
   "outputs": [],
   "source": [
    "system = orbitty.System(\n",
    "    m=[1000, 1], x=[[0, 0, 0], [0, 10, 0]], p=[[10, 0, 0], [-10, 0, 0]]\n",
    ")\n",
    "\n",
    "initial = center_of_mass(system)\n",
    "for i in range(1000):\n",
    "    system.step()\n",
    "    assert center_of_mass(system) == initial, f\"{i}\\n{center_of_mass(system)}\\n{initial}\""
   ]
  },
  {
   "cell_type": "markdown",
   "id": "bf364673-84c7-43b5-bc09-ec8b07170645",
   "metadata": {},
   "source": [
    "What are we missing?"
   ]
  },
  {
   "cell_type": "markdown",
   "id": "899aa219-b75d-42c7-863f-ca6449d8d046",
   "metadata": {},
   "source": [
    "<br><br><br><br><br>"
   ]
  },
  {
   "cell_type": "markdown",
   "id": "5366b5ba-90fd-4a39-b5b1-13184944f344",
   "metadata": {
    "jp-MarkdownHeadingCollapsed": true
   },
   "source": [
    "#### Total momentum on the moon"
   ]
  },
  {
   "cell_type": "code",
   "execution_count": null,
   "id": "13d724a9-8f1e-47e5-9b81-2974492d31d6",
   "metadata": {},
   "outputs": [],
   "source": [
    "system = orbitty.System(\n",
    "    m=[1000, 1, 1],\n",
    "    x=[[0, 0, 0], [0, 10, 0], [0, 11, 0]],\n",
    "    p=[[0, 0, 0], [-16, 0, 0], [-13, 0, 0]],\n",
    ")\n",
    "\n",
    "initial = total_momentum(system)\n",
    "for i in range(1000):\n",
    "    system.step()\n",
    "    assert total_momentum(system) == pytest.approx(\n",
    "        initial\n",
    "    ), f\"{i}\\n{total_momentum(system)}\\n{initial}\""
   ]
  },
  {
   "cell_type": "markdown",
   "id": "c7aaed8b-0f55-4bb3-914b-9ed986d55648",
   "metadata": {},
   "source": [
    "<br><br><br>"
   ]
  },
  {
   "cell_type": "markdown",
   "id": "1dddbb2a-5c29-4b06-b6d1-6f29cbf204d1",
   "metadata": {
    "jp-MarkdownHeadingCollapsed": true
   },
   "source": [
    "#### Total energy on the three-body problem"
   ]
  },
  {
   "cell_type": "code",
   "execution_count": null,
   "id": "0ae57657-bcb5-4fe3-99fa-e880d2d9bd58",
   "metadata": {
    "editable": true,
    "slideshow": {
     "slide_type": ""
    },
    "tags": [
     "raises-exception"
    ]
   },
   "outputs": [],
   "source": [
    "p1 = 0.347111\n",
    "p2 = 0.532728\n",
    "system = orbitty.System(\n",
    "    m=[1, 1, 1],\n",
    "    x=[[-1, 0, 0], [1, 0, 0], [0, 0, 0]],\n",
    "    p=[[p1, p2, 0], [p1, p2, 0], [-2*p1, -2*p2, 0]]\n",
    ")\n",
    "system.G = 1\n",
    "\n",
    "initial = total_energy(system)\n",
    "for i in range(1000):\n",
    "    system.step()\n",
    "    assert total_energy(system) == pytest.approx(initial), f\"{i}\\n{total_energy(system)}\\n{initial}\""
   ]
  },
  {
   "cell_type": "markdown",
   "id": "85403647-80cc-43a4-9e9f-ac83e17aeee2",
   "metadata": {},
   "source": [
    "Hmmm. That's really close.\n",
    "\n",
    "Try loosening the tolerance on [pytest.approx](https://docs.pytest.org/en/latest/reference/reference.html#pytest-approx)."
   ]
  },
  {
   "cell_type": "markdown",
   "id": "aac67590-b869-4e39-8d32-c792240790cc",
   "metadata": {},
   "source": [
    "<br><br><br><br><br>"
   ]
  },
  {
   "cell_type": "markdown",
   "id": "5a558c60-1149-41a1-967e-51aab55698f2",
   "metadata": {},
   "source": [
    "Is that good enough?\n",
    "\n",
    "Remember that automated tests are _for your benefit_. The question is: what would convince _you_ that there's truly something wrong and not some round-off error?\n",
    "\n",
    "What about reducing the step size in the numerical simulation, instead of widening the tolerance for error?"
   ]
  },
  {
   "cell_type": "markdown",
   "id": "f6931a59-6c90-4850-9227-104588290632",
   "metadata": {},
   "source": [
    "<br><br><br><br><br>"
   ]
  },
  {
   "cell_type": "markdown",
   "id": "1c138ae7-28ce-465b-8f80-68134cc61243",
   "metadata": {
    "jp-MarkdownHeadingCollapsed": true
   },
   "source": [
    "### Property tests with random inputs"
   ]
  },
  {
   "cell_type": "code",
   "execution_count": null,
   "id": "7d7403d3-5a80-476a-9b58-d5bd0e4fd961",
   "metadata": {},
   "outputs": [],
   "source": [
    "rng = np.random.default_rng(seed=12345)\n",
    "\n",
    "system = orbitty.System.random(\n",
    "    num_particles=20,\n",
    "    num_dimensions=3,\n",
    "    mass_mean=10,\n",
    "    mass_width=1,\n",
    "    x_width=100,\n",
    "    p_width=10,\n",
    "    rng=rng,\n",
    ")\n",
    "\n",
    "initial = total_momentum(system)\n",
    "for i in range(10000):\n",
    "    system.step(dt=0.1)\n",
    "    assert total_momentum(system) == pytest.approx(\n",
    "        initial\n",
    "    ), f\"{i}\\n{total_momentum(system)}\\n{initial}\""
   ]
  },
  {
   "cell_type": "markdown",
   "id": "9c207875-dbd3-4690-8653-4851200148db",
   "metadata": {},
   "source": [
    "Out of curiosity, what did that simulation look like?"
   ]
  },
  {
   "cell_type": "code",
   "execution_count": null,
   "id": "07119df8-6d0f-4875-9849-df4b64824eb0",
   "metadata": {},
   "outputs": [],
   "source": [
    "system.plot()"
   ]
  },
  {
   "cell_type": "markdown",
   "id": "059d134c-0507-4456-85e1-451730962331",
   "metadata": {},
   "source": [
    "The fact that the total momentum remained constant, while the particles all weave around each other in 3D, is an impressive demonstration that it's correct."
   ]
  },
  {
   "cell_type": "markdown",
   "id": "7855ffc4-8617-4e46-b388-5d31e6821535",
   "metadata": {},
   "source": [
    "<br><br><br><br><br>"
   ]
  },
  {
   "cell_type": "markdown",
   "id": "315b970a-6f1f-430b-bff6-50f054e3c88e",
   "metadata": {
    "jp-MarkdownHeadingCollapsed": true
   },
   "source": [
    "## Let's see those tests!"
   ]
  },
  {
   "cell_type": "markdown",
   "id": "892af613-666f-40f6-bee6-f8cb90eeccff",
   "metadata": {},
   "source": [
    "* [tests/test_0003_orbitty.py](tests/test_0003_orbitty.py)"
   ]
  },
  {
   "cell_type": "code",
   "execution_count": null,
   "id": "ad8ff0d1-6a7e-4747-b023-e8d73a29f1e4",
   "metadata": {},
   "outputs": [],
   "source": [
    "pytest.main([\"-v\", \"tests/test_0003_orbitty.py\"])"
   ]
  },
  {
   "cell_type": "markdown",
   "id": "043a695a-a23c-4921-a7ce-7907a31b3d1e",
   "metadata": {},
   "source": [
    "<br><br><br><br><br>"
   ]
  },
  {
   "cell_type": "markdown",
   "id": "719b0caa-3697-4116-9cb2-9c648b9fc666",
   "metadata": {},
   "source": [
    "Did that take too long?\n",
    "\n",
    "Again, it's up to you. The tests are there for _your_ benefit!\n",
    "\n",
    "* If they take so long that you never want to run them, then they're not useful.\n",
    "* If they don't test all the cases or test too superficially, then they're not useful."
   ]
  },
  {
   "cell_type": "markdown",
   "id": "16edbf8c-71d7-4244-b578-1d3ed4eaf9be",
   "metadata": {},
   "source": [
    "<br><br><br><br><br>"
   ]
  },
  {
   "cell_type": "markdown",
   "id": "a842ef5a-a07c-42d7-bf8c-f695edb601bd",
   "metadata": {},
   "source": [
    "Now let's see what these tests look like in GitHub Actions.\n",
    "\n",
    "* [https://github.com/jpivarski-talks/my-cool-package/tree/main/tests](https://github.com/jpivarski-talks/my-cool-package/tree/main/tests)\n",
    "* [https://github.com/jpivarski-talks/my-cool-package/tree/main/.github/workflows](https://github.com/jpivarski-talks/my-cool-package/tree/main/.github/workflows)\n",
    "* [https://github.com/jpivarski-talks/my-cool-package/actions](https://github.com/jpivarski-talks/my-cool-package/actions)"
   ]
  }
 ],
 "metadata": {
  "kernelspec": {
   "display_name": "Python 3 (ipykernel)",
   "language": "python",
   "name": "python3"
  },
  "language_info": {
   "codemirror_mode": {
    "name": "ipython",
    "version": 3
   },
   "file_extension": ".py",
   "mimetype": "text/x-python",
   "name": "python",
   "nbconvert_exporter": "python",
   "pygments_lexer": "ipython3",
   "version": "3.10.14"
  }
 },
 "nbformat": 4,
 "nbformat_minor": 5
}
