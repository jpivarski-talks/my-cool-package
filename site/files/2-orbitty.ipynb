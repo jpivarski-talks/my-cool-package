{
 "cells": [
  {
   "cell_type": "code",
   "execution_count": null,
   "id": "9b56bf36-9434-4c33-917f-000383e957d3",
   "metadata": {},
   "outputs": [],
   "source": [
    "import piplite\n",
    "await piplite.install(\"numpy\")\n",
    "await piplite.install(\"matplotlib\")"
   ]
  },
  {
   "cell_type": "markdown",
   "id": "ffeadd5b-89c0-4b85-9c94-8d36fd5253a2",
   "metadata": {},
   "source": [
    "<br><br><br>"
   ]
  },
  {
   "cell_type": "markdown",
   "id": "7b13ee22-7b8d-4ab3-a8fb-fcc9eb7c206a",
   "metadata": {
    "jp-MarkdownHeadingCollapsed": true
   },
   "source": [
    "## Orbitty"
   ]
  },
  {
   "cell_type": "code",
   "execution_count": null,
   "id": "c103a33e-b1e9-4edc-bd87-38b45f194be9",
   "metadata": {},
   "outputs": [],
   "source": [
    "from my_cool_package import orbitty"
   ]
  },
  {
   "cell_type": "markdown",
   "id": "51a99fc4-5deb-4113-9b65-e7d37bd46eb4",
   "metadata": {},
   "source": [
    "<br><br><br>"
   ]
  },
  {
   "cell_type": "markdown",
   "id": "9b116bb3-b405-47b4-bc85-9cf6133c1e4d",
   "metadata": {},
   "source": [
    "This is a little simulation of gravitational forces."
   ]
  },
  {
   "cell_type": "code",
   "execution_count": null,
   "id": "4bc0e3c1-11bf-4c79-b11b-3623556de777",
   "metadata": {},
   "outputs": [],
   "source": [
    "system = orbitty.System(m=[1, 1], x=[[0, -1, 0], [0, 1, 0]], p=[[1, 0, 0], [-1, 0, 0]])\n",
    "system.steps(300, dt=0.1)\n",
    "system.plot()"
   ]
  },
  {
   "cell_type": "markdown",
   "id": "fc57ecdf-bab6-45ee-a299-1ec2d11ea4aa",
   "metadata": {},
   "source": [
    "The number of dimensions matters: only 3D positions and momenta have an inverse-square law."
   ]
  },
  {
   "cell_type": "code",
   "execution_count": null,
   "id": "ee84bf9e-9bda-445a-8483-9058ab16b73b",
   "metadata": {},
   "outputs": [],
   "source": [
    "system = orbitty.System(m=[1, 1], x=[[0, -1], [0, 1]], p=[[1, 0], [-1, 0]])\n",
    "system.steps(1500, dt=0.01)\n",
    "system.plot()"
   ]
  },
  {
   "cell_type": "markdown",
   "id": "8cd0adb4-9e09-4892-89f1-a270c5c8df05",
   "metadata": {},
   "source": [
    "A comet!"
   ]
  },
  {
   "cell_type": "code",
   "execution_count": null,
   "id": "e4b75df5-04cb-4179-859c-ee3ee0cc80af",
   "metadata": {},
   "outputs": [],
   "source": [
    "system = orbitty.System(\n",
    "    m=[1000, 1], x=[[0, 0, 0], [0, 10, 0]], p=[[10, 0, 0], [-10, 0, 0]]\n",
    ")\n",
    "system.steps(300)\n",
    "system.plot()"
   ]
  },
  {
   "cell_type": "markdown",
   "id": "77c36701-0cb4-4f75-853b-30574eda77fd",
   "metadata": {},
   "source": [
    "A moon!"
   ]
  },
  {
   "cell_type": "code",
   "execution_count": null,
   "id": "4a0c327b-1a49-4933-b5e1-9e0d4198cd7d",
   "metadata": {},
   "outputs": [],
   "source": [
    "system = orbitty.System(\n",
    "    m=[1000, 1, 1],\n",
    "    x=[[0, 0, 0], [0, 10, 0], [0, 11, 0]],\n",
    "    p=[[0, 0, 0], [-16, 0, 0], [-13, 0, 0]],\n",
    ")\n",
    "system.steps(600)\n",
    "system.plot()"
   ]
  },
  {
   "cell_type": "markdown",
   "id": "2ef63f58-07fe-449f-a66e-deea4f6b1bc8",
   "metadata": {},
   "source": [
    "The three-body problem!"
   ]
  },
  {
   "cell_type": "code",
   "execution_count": null,
   "id": "2149b721-d831-4919-9ed6-155d9cd976a5",
   "metadata": {},
   "outputs": [],
   "source": [
    "p1 = 0.347111\n",
    "p2 = 0.532728\n",
    "system = orbitty.System(\n",
    "    m=[1, 1, 1],\n",
    "    x=[[-1, 0, 0], [1, 0, 0], [0, 0, 0]],\n",
    "    p=[[p1, p2, 0], [p1, p2, 0], [-2 * p1, -2 * p2, 0]],\n",
    ")\n",
    "system.G = 1\n",
    "system.steps(1000, dt=0.01)\n",
    "system.plot()"
   ]
  },
  {
   "cell_type": "markdown",
   "id": "01d23b03-a430-4e61-94bf-a85837d034da",
   "metadata": {},
   "source": [
    "A whole lot of particles!"
   ]
  },
  {
   "cell_type": "code",
   "execution_count": null,
   "id": "fed1e4bf-c30a-4661-b18e-99f42398be48",
   "metadata": {},
   "outputs": [],
   "source": [
    "system = orbitty.System.random(\n",
    "    num_particles=20,\n",
    "    num_dimensions=3,\n",
    "    mass_mean=10,\n",
    "    mass_width=1,\n",
    "    x_width=100,\n",
    "    p_width=10,\n",
    ")\n",
    "system.steps(10000, dt=0.1)\n",
    "system.plot()"
   ]
  },
  {
   "cell_type": "markdown",
   "id": "86ae7cca-c308-4d80-84b6-6f527c8a6bb7",
   "metadata": {},
   "source": [
    "A whole-whole lot of particles!"
   ]
  },
  {
   "cell_type": "code",
   "execution_count": null,
   "id": "66a746e0-e642-41e2-9062-088353217c20",
   "metadata": {},
   "outputs": [],
   "source": [
    "system = orbitty.System.random(\n",
    "    num_particles=50,\n",
    "    num_dimensions=3,\n",
    "    mass_mean=10,\n",
    "    mass_width=1,\n",
    "    x_width=100,\n",
    "    p_width=15,\n",
    ")\n",
    "system.steps(10000, dt=0.1)\n",
    "system.plot()"
   ]
  },
  {
   "cell_type": "markdown",
   "id": "3f1e6bb7-f576-430d-8610-571021f1a0f8",
   "metadata": {},
   "source": [
    "<br><br><br>"
   ]
  },
  {
   "cell_type": "markdown",
   "id": "e5010dc6-3727-45c2-a7b0-69996a2df0e4",
   "metadata": {
    "jp-MarkdownHeadingCollapsed": true
   },
   "source": [
    "## What would be a good unit test?"
   ]
  },
  {
   "cell_type": "markdown",
   "id": "e178a07e-258f-497d-8076-f8572c1f3eac",
   "metadata": {},
   "source": [
    "It's hard to test a plot.\n",
    "\n",
    "Even if you get the plot as an image or a video file and test it against an expected image/video,\n",
    "\n",
    "* you'd have to compare the _uncompressed_ image/video, since minor differences in codec versions can make the compressed bytes differ when nothing has really changed,\n",
    "* the test might be run on a computer with different plotting backend, making the plots differ in irrelevant ways (margins, fonts, ...),\n",
    "* if you ever want to add tests, you'll have to go through a complicated process of making expected images/videos.\n",
    "\n",
    "It's not worth it!"
   ]
  },
  {
   "cell_type": "markdown",
   "id": "e3dc454f-c3ed-4064-b204-3d9b8b2d40dd",
   "metadata": {},
   "source": [
    "<br><br><br>"
   ]
  },
  {
   "cell_type": "markdown",
   "id": "7c473e80-c6b4-4939-82d5-bcefd60d5c71",
   "metadata": {},
   "source": [
    "What about testing raw values?"
   ]
  },
  {
   "cell_type": "code",
   "execution_count": null,
   "id": "35e734cd-8b96-42b7-9f38-26df6650c324",
   "metadata": {},
   "outputs": [],
   "source": [
    "system = orbitty.System(\n",
    "    m=[1000, 1], x=[[0, 0, 0], [0, 10, 0]], p=[[10, 0, 0], [-10, 0, 0]]\n",
    ")\n",
    "system.steps(1000)"
   ]
  },
  {
   "cell_type": "code",
   "execution_count": null,
   "id": "6e9a43dc-327f-4737-96c9-38c82a0117eb",
   "metadata": {},
   "outputs": [],
   "source": [
    "system.t_history"
   ]
  },
  {
   "cell_type": "code",
   "execution_count": null,
   "id": "74cd59e9-0829-4a4a-a90e-420bd11f150c",
   "metadata": {},
   "outputs": [],
   "source": [
    "system.x_history"
   ]
  },
  {
   "cell_type": "code",
   "execution_count": null,
   "id": "0203af85-d8af-49c4-99a7-c8d9581b462e",
   "metadata": {},
   "outputs": [],
   "source": [
    "system.p_history"
   ]
  },
  {
   "cell_type": "markdown",
   "id": "a2f77670-d0ac-49d7-a2fa-2b283b8e194c",
   "metadata": {},
   "source": [
    "Again, that's a lot of precise values that you'd have to store somewhere.\n",
    "\n",
    "If making tests is not fun & easy, you're not going to want to do it."
   ]
  },
  {
   "cell_type": "markdown",
   "id": "e4c9fc9c-a1d5-4fe9-88f4-099037a9f7a0",
   "metadata": {},
   "source": [
    "<br><br><br>"
   ]
  },
  {
   "cell_type": "markdown",
   "id": "a5ef5d4d-7186-4844-b7a6-2c42289ab31d",
   "metadata": {},
   "source": [
    "**Physics question:** what are the invariants of motion for this physical system?"
   ]
  },
  {
   "cell_type": "code",
   "execution_count": null,
   "id": "074019f2-5b01-48c6-8821-a6456c0f109a",
   "metadata": {},
   "outputs": [],
   "source": [
    "import numpy as np"
   ]
  },
  {
   "cell_type": "markdown",
   "id": "0d2e0431-d695-4d29-9c40-b036c3fa7293",
   "metadata": {
    "jp-MarkdownHeadingCollapsed": true
   },
   "source": [
    "### One"
   ]
  },
  {
   "cell_type": "code",
   "execution_count": null,
   "id": "b7839b94-f80d-4cc2-8fe6-563878156c32",
   "metadata": {},
   "outputs": [],
   "source": [
    "def total_momentum(system):\n",
    "    return np.sum(system.p, axis=0).tolist()"
   ]
  },
  {
   "cell_type": "markdown",
   "id": "130d3582-ac93-4841-8b50-e207365a401e",
   "metadata": {
    "jp-MarkdownHeadingCollapsed": true
   },
   "source": [
    "### Two"
   ]
  },
  {
   "cell_type": "code",
   "execution_count": null,
   "id": "e4e0fdaf-b5b6-4d94-85c2-f9676ab90f38",
   "metadata": {},
   "outputs": [],
   "source": [
    "def total_energy(system):\n",
    "    # KE = 1/2 m |v|^2 and p = mv, so KE = 1/2 |p|^2 / m\n",
    "    kinetic = np.sum(0.5 * np.sum(system.p**2, axis=1) / system.m)\n",
    "\n",
    "    # gravitational force -> potential integration in 3D\n",
    "    assert system.num_dimensions == 3\n",
    "    # indexes to pick out (particle 1, particle 2) pairs, for all pairs\n",
    "    p1, p2 = np.triu_indices(len(system.x), k=1)\n",
    "    # pairwise (pw) displacements between all particle pairs\n",
    "    pw_displacement = system.x[p2] - system.x[p1]\n",
    "    # pairwise displacement is a sum in quadrature over all dimensions\n",
    "    pw_distance = np.sqrt(np.sum(pw_displacement**2, axis=-1))\n",
    "    # PE = -G m1 m2 / distance (for each pair)\n",
    "    pw_potential = -system.G * system.m[p1] * system.m[p2] / pw_distance\n",
    "    # sum over pairs to get the potential for each particle\n",
    "    particle_potential = np.zeros_like(system.m)\n",
    "    np.add.at(particle_potential, p1, pw_potential)\n",
    "    np.add.at(particle_potential, p2, pw_potential)\n",
    "    # avoid double-counting (particle 1, particle 2) and (particle 2, particle 1)\n",
    "    potential = 0.5 * np.sum(particle_potential)\n",
    "\n",
    "    return potential + kinetic"
   ]
  },
  {
   "cell_type": "markdown",
   "id": "948fe8db-874c-440f-963f-acde2bed61e1",
   "metadata": {
    "jp-MarkdownHeadingCollapsed": true
   },
   "source": [
    "### Three"
   ]
  },
  {
   "cell_type": "code",
   "execution_count": null,
   "id": "2cf2d4a0-1875-4b8c-8fdf-8977c5fe3d78",
   "metadata": {},
   "outputs": [],
   "source": [
    "def center_of_mass(system):\n",
    "    return np.sum(\n",
    "        system.m[:, np.newaxis] * system.x / np.sum(system.m), axis=0\n",
    "    ).tolist()"
   ]
  },
  {
   "cell_type": "markdown",
   "id": "7ca6f01c-7780-460f-afeb-2f6ce46591a6",
   "metadata": {},
   "source": [
    "will move linearly.\n",
    "\n",
    "If the initial momentum is zero, then this is a constant."
   ]
  },
  {
   "cell_type": "markdown",
   "id": "e8f541e3-8de1-4ab5-9c6a-244b983cc957",
   "metadata": {
    "jp-MarkdownHeadingCollapsed": true
   },
   "source": [
    "### More?"
   ]
  },
  {
   "cell_type": "markdown",
   "id": "c42232a9-e45c-4b66-aa5f-94d6d581f90a",
   "metadata": {},
   "source": [
    "There's also Kepler's laws of motion, but they're equivalent to the above."
   ]
  },
  {
   "cell_type": "markdown",
   "id": "68563c67-ffe7-4cc1-b8c3-bf6a76b687a7",
   "metadata": {
    "jp-MarkdownHeadingCollapsed": true
   },
   "source": [
    "### Applying them"
   ]
  },
  {
   "cell_type": "markdown",
   "id": "6583319a-b6cc-4118-a5fb-827ff8e15a0c",
   "metadata": {},
   "source": [
    "Center of mass on the comet."
   ]
  },
  {
   "cell_type": "code",
   "execution_count": null,
   "id": "394c23c0-fc87-4645-b2a5-774905019d5d",
   "metadata": {
    "editable": true,
    "slideshow": {
     "slide_type": ""
    },
    "tags": [
     "raises-exception"
    ]
   },
   "outputs": [],
   "source": [
    "system = orbitty.System(\n",
    "    m=[1000, 1], x=[[0, 0, 0], [0, 10, 0]], p=[[10, 0, 0], [-10, 0, 0]]\n",
    ")\n",
    "\n",
    "initial = center_of_mass(system)\n",
    "for i in range(1000):\n",
    "    system.step()\n",
    "    assert center_of_mass(system) == initial, f\"{i}\\n{center_of_mass(system)}\\n{initial}\""
   ]
  },
  {
   "cell_type": "markdown",
   "id": "bf364673-84c7-43b5-bc09-ec8b07170645",
   "metadata": {},
   "source": [
    "Perfection is too much to ask of a numerical simulation."
   ]
  },
  {
   "cell_type": "code",
   "execution_count": null,
   "id": "2fc3a6e6-97cb-4393-ab39-9a9861f9f0fd",
   "metadata": {},
   "outputs": [],
   "source": [
    "import pytest"
   ]
  },
  {
   "cell_type": "code",
   "execution_count": null,
   "id": "7c9be119-a5f5-4070-b562-628f9b7f7ee2",
   "metadata": {},
   "outputs": [],
   "source": [
    "system = orbitty.System(\n",
    "    m=[1000, 1], x=[[0, 0, 0], [0, 10, 0]], p=[[10, 0, 0], [-10, 0, 0]]\n",
    ")\n",
    "\n",
    "initial = center_of_mass(system)\n",
    "for i in range(1000):\n",
    "    system.step()\n",
    "    assert center_of_mass(system) == pytest.approx(\n",
    "        initial\n",
    "    ), f\"{i}\\n{center_of_mass(system)}\\n{initial}\""
   ]
  },
  {
   "cell_type": "markdown",
   "id": "899aa219-b75d-42c7-863f-ca6449d8d046",
   "metadata": {},
   "source": [
    "<br><br><br>"
   ]
  },
  {
   "cell_type": "markdown",
   "id": "5366b5ba-90fd-4a39-b5b1-13184944f344",
   "metadata": {},
   "source": [
    "Total momentum on the moon."
   ]
  },
  {
   "cell_type": "code",
   "execution_count": null,
   "id": "13d724a9-8f1e-47e5-9b81-2974492d31d6",
   "metadata": {},
   "outputs": [],
   "source": [
    "system = orbitty.System(\n",
    "    m=[1000, 1, 1],\n",
    "    x=[[0, 0, 0], [0, 10, 0], [0, 11, 0]],\n",
    "    p=[[0, 0, 0], [-16, 0, 0], [-13, 0, 0]],\n",
    ")\n",
    "\n",
    "initial = total_momentum(system)\n",
    "for i in range(1000):\n",
    "    system.step()\n",
    "    assert total_momentum(system) == pytest.approx(\n",
    "        initial\n",
    "    ), f\"{i}\\n{total_momentum(system)}\\n{initial}\""
   ]
  },
  {
   "cell_type": "markdown",
   "id": "c7aaed8b-0f55-4bb3-914b-9ed986d55648",
   "metadata": {},
   "source": [
    "<br><br><br>"
   ]
  },
  {
   "cell_type": "markdown",
   "id": "1dddbb2a-5c29-4b06-b6d1-6f29cbf204d1",
   "metadata": {},
   "source": [
    "Total energy on the three-body problem."
   ]
  },
  {
   "cell_type": "code",
   "execution_count": null,
   "id": "0ae57657-bcb5-4fe3-99fa-e880d2d9bd58",
   "metadata": {
    "editable": true,
    "slideshow": {
     "slide_type": ""
    },
    "tags": [
     "raises-exception"
    ]
   },
   "outputs": [],
   "source": [
    "p1 = 0.347111\n",
    "p2 = 0.532728\n",
    "system = orbitty.System(\n",
    "    m=[1, 1, 1],\n",
    "    x=[[-1, 0, 0], [1, 0, 0], [0, 0, 0]],\n",
    "    p=[[p1, p2, 0], [p1, p2, 0], [-2*p1, -2*p2, 0]]\n",
    ")\n",
    "system.G = 1\n",
    "\n",
    "initial = total_energy(system)\n",
    "for i in range(1000):\n",
    "    system.step()\n",
    "    assert total_energy(system) == pytest.approx(initial), f\"{i}\\n{total_energy(system)}\\n{initial}\""
   ]
  },
  {
   "cell_type": "markdown",
   "id": "85403647-80cc-43a4-9e9f-ac83e17aeee2",
   "metadata": {},
   "source": [
    "Hmmm. That's really close.\n",
    "\n",
    "Let's try loosening the tolerance on [pytest.approx](https://docs.pytest.org/en/latest/reference/reference.html#pytest-approx)."
   ]
  },
  {
   "cell_type": "code",
   "execution_count": null,
   "id": "b6f9fc6f-8896-4419-833b-259931b14f73",
   "metadata": {},
   "outputs": [],
   "source": [
    "p1 = 0.347111\n",
    "p2 = 0.532728\n",
    "system = orbitty.System(\n",
    "    m=[1, 1, 1],\n",
    "    x=[[-1, 0, 0], [1, 0, 0], [0, 0, 0]],\n",
    "    p=[[p1, p2, 0], [p1, p2, 0], [-2 * p1, -2 * p2, 0]],\n",
    ")\n",
    "system.G = 1\n",
    "\n",
    "initial = total_energy(system)\n",
    "for i in range(1000):\n",
    "    system.step()\n",
    "    assert total_energy(system) == pytest.approx(\n",
    "        initial, rel=1e-2\n",
    "    ), f\"{i}\\n{total_energy(system)}\\n{initial}\""
   ]
  },
  {
   "cell_type": "markdown",
   "id": "5a558c60-1149-41a1-967e-51aab55698f2",
   "metadata": {},
   "source": [
    "Is that good enough?\n",
    "\n",
    "Remember that automated tests are _for your benefit_. The question is: what would convince _you_ that there's truly something wrong and not some round-off error?\n",
    "\n",
    "What about reducing the step size in the numerical simulation, instead of widening the tolerance for error?"
   ]
  },
  {
   "cell_type": "markdown",
   "id": "f6931a59-6c90-4850-9227-104588290632",
   "metadata": {},
   "source": [
    "<br><br><br>"
   ]
  },
  {
   "cell_type": "markdown",
   "id": "1c138ae7-28ce-465b-8f80-68134cc61243",
   "metadata": {
    "jp-MarkdownHeadingCollapsed": true
   },
   "source": [
    "### Fuzz tests"
   ]
  },
  {
   "cell_type": "markdown",
   "id": "acabc506-e9f6-4b71-92f6-3e48be7079e6",
   "metadata": {},
   "source": [
    "These are all canned examples, with carefully chosen initial conditions, masses that are either 1 or 1000, and zero components in the third dimension. That's not really sampling the space of possibilities. What if a user tries something unexpected?\n",
    "\n",
    "Maybe we need some randomly generated tests."
   ]
  },
  {
   "cell_type": "code",
   "execution_count": null,
   "id": "7d7403d3-5a80-476a-9b58-d5bd0e4fd961",
   "metadata": {},
   "outputs": [],
   "source": [
    "system = orbitty.System.random(\n",
    "    num_particles=20,\n",
    "    num_dimensions=3,\n",
    "    mass_mean=10,\n",
    "    mass_width=1,\n",
    "    x_width=100,\n",
    "    p_width=10,\n",
    ")\n",
    "\n",
    "initial = total_momentum(system)\n",
    "for i in range(10000):\n",
    "    system.step()\n",
    "    assert total_momentum(system) == pytest.approx(\n",
    "        initial\n",
    "    ), f\"{i}\\n{total_momentum(system)}\\n{initial}\""
   ]
  },
  {
   "cell_type": "markdown",
   "id": "9c207875-dbd3-4690-8653-4851200148db",
   "metadata": {},
   "source": [
    "Out of curiosity, what did that simulation look like?"
   ]
  },
  {
   "cell_type": "code",
   "execution_count": null,
   "id": "07119df8-6d0f-4875-9849-df4b64824eb0",
   "metadata": {},
   "outputs": [],
   "source": [
    "system.plot()"
   ]
  },
  {
   "cell_type": "markdown",
   "id": "059d134c-0507-4456-85e1-451730962331",
   "metadata": {},
   "source": [
    "The fact that the total momentum remained constant, while the particles all weave around each other in 3D, is an impressive demonstration that it's correct.\n",
    "\n",
    "But... there's always some numerical error, hidden by the tolerances in [pytest.approx](https://docs.pytest.org/en/latest/reference/reference.html#pytest-approx).\n",
    "\n",
    "What if one run of the test just happens to pick a random number that scrapes the boundary of pytest's tolerances? The test will fail, and if we try to run it again, it probably won't fail again. If the failure happened on GitHub Actions, it might leave us wondering whether there's a system-dependent error in our code!\n",
    "\n",
    "Non-reproducible bugs are the worst!"
   ]
  },
  {
   "cell_type": "markdown",
   "id": "7855ffc4-8617-4e46-b388-5d31e6821535",
   "metadata": {},
   "source": [
    "<br><br><br>"
   ]
  },
  {
   "cell_type": "markdown",
   "id": "1f82316d-db06-4b0f-8cea-f3b7e6a914af",
   "metadata": {},
   "source": [
    "Don't let your tests be non-deterministic, even if they're random."
   ]
  },
  {
   "cell_type": "code",
   "execution_count": null,
   "id": "73dac2ef-9979-4859-af19-495aac392e97",
   "metadata": {},
   "outputs": [],
   "source": [
    "rng = np.random.default_rng(seed=12345)\n",
    "\n",
    "rng.integers(0, 100, 10)"
   ]
  },
  {
   "cell_type": "code",
   "execution_count": null,
   "id": "cac0c302-d488-473f-bae1-c60a930b5345",
   "metadata": {},
   "outputs": [],
   "source": [
    "rng = np.random.default_rng(seed=12345)\n",
    "\n",
    "system = orbitty.System.random(\n",
    "    num_particles=20,\n",
    "    num_dimensions=3,\n",
    "    mass_mean=10,\n",
    "    mass_width=1,\n",
    "    x_width=100,\n",
    "    p_width=10,\n",
    "    rng=rng,\n",
    ")\n",
    "\n",
    "initial = total_momentum(system)\n",
    "for i in range(10000):\n",
    "    system.step()\n",
    "    assert total_momentum(system) == pytest.approx(\n",
    "        initial\n",
    "    ), f\"{i}\\n{total_momentum(system)}\\n{initial}\""
   ]
  },
  {
   "cell_type": "markdown",
   "id": "2599b7ff-4a3d-4bd1-be57-64cf7034181e",
   "metadata": {},
   "source": [
    "It's \"random\" in the sense that this scenario was randomly chosen _once_, but then every time we run it, we start from the same scenario.\n",
    "\n",
    "If anything glitchy happens on a the test-runner, we'll know that it's not variations in the random seed. When debugging, you'll need to have as few sources of error as possible. Don't let an unseeded random number generator add one more."
   ]
  },
  {
   "cell_type": "markdown",
   "id": "a2f1392a-cdad-4ed1-b52a-1a60b071561c",
   "metadata": {},
   "source": [
    "<br><br><br>"
   ]
  },
  {
   "cell_type": "markdown",
   "id": "8fa5bd8e-6c66-4e9f-9cc8-19142646531c",
   "metadata": {
    "jp-MarkdownHeadingCollapsed": true
   },
   "source": [
    "### Also, include a simple test"
   ]
  },
  {
   "cell_type": "markdown",
   "id": "37aba58f-3364-48b2-99e9-d026ce7f7138",
   "metadata": {},
   "source": [
    "Although these invariants are general and physics-motivated, what if one of them fails? What if they all fail? What's really happening in the code?\n",
    "\n",
    "What if we run"
   ]
  },
  {
   "cell_type": "code",
   "execution_count": null,
   "id": "b6270f6d-ba48-4ddd-bdc0-33c2bb08b364",
   "metadata": {},
   "outputs": [],
   "source": [
    "rng = np.random.default_rng(seed=12345)\n",
    "\n",
    "system = orbitty.System.random(\n",
    "    num_particles=5,\n",
    "    num_dimensions=3,\n",
    "    mass_mean=10,\n",
    "    mass_width=1,\n",
    "    x_width=100,\n",
    "    p_width=10,\n",
    "    rng=rng,\n",
    ")\n",
    "system.steps(10)"
   ]
  },
  {
   "cell_type": "markdown",
   "id": "20c0aea4-b960-4a10-a459-80fcf74a23d0",
   "metadata": {},
   "source": [
    "and instead of"
   ]
  },
  {
   "cell_type": "code",
   "execution_count": null,
   "id": "b801934f-d52b-47e8-872b-926caba1886a",
   "metadata": {},
   "outputs": [],
   "source": [
    "system.t_history"
   ]
  },
  {
   "cell_type": "code",
   "execution_count": null,
   "id": "a18d4942-ce55-40d9-9ed4-d722973d13f4",
   "metadata": {},
   "outputs": [],
   "source": [
    "system.x_history"
   ]
  },
  {
   "cell_type": "code",
   "execution_count": null,
   "id": "196b325e-9ef8-4a62-8cc8-e530ac69cbaa",
   "metadata": {},
   "outputs": [],
   "source": [
    "system.p_history"
   ]
  },
  {
   "cell_type": "markdown",
   "id": "f076fb30-6943-4297-81d5-9a727bd3732e",
   "metadata": {},
   "source": [
    "we get subtly different values?\n",
    "\n",
    "What if we get radically different values?\n",
    "\n",
    "In both cases, the physics invariants will fail, so what's the next diagnostic step?"
   ]
  },
  {
   "cell_type": "markdown",
   "id": "00b38b02-66ee-419c-a016-c1405a6a9a63",
   "metadata": {},
   "source": [
    "<br><br><br>"
   ]
  },
  {
   "cell_type": "markdown",
   "id": "88777592-a4f2-4233-98cb-d72c2aad16c5",
   "metadata": {},
   "source": [
    "If we also save"
   ]
  },
  {
   "cell_type": "code",
   "execution_count": null,
   "id": "afb6e4d8-93eb-4753-a7fe-c417fbaab437",
   "metadata": {},
   "outputs": [],
   "source": [
    "expected_t_history = system.t_history\n",
    "expected_x_history = system.x_history\n",
    "expected_p_history = system.p_history"
   ]
  },
  {
   "cell_type": "markdown",
   "id": "5dc07737-0ff0-4762-a51f-b486edb9c8b1",
   "metadata": {},
   "source": [
    "in a file and load them in a test like"
   ]
  },
  {
   "cell_type": "code",
   "execution_count": null,
   "id": "afe12e75-012b-474a-94da-3c51bb8a4262",
   "metadata": {},
   "outputs": [],
   "source": [
    "rng = np.random.default_rng(seed=12345)\n",
    "\n",
    "system = orbitty.System.random(\n",
    "    num_particles=5,\n",
    "    num_dimensions=3,\n",
    "    mass_mean=10,\n",
    "    mass_width=1,\n",
    "    x_width=100,\n",
    "    p_width=10,\n",
    "    rng=rng,\n",
    ")\n",
    "system.steps(10)\n",
    "\n",
    "assert system.t_history.tolist() == pytest.approx(expected_t_history)\n",
    "assert system.x_history.tolist() == pytest.approx(expected_x_history)\n",
    "assert system.p_history.tolist() == pytest.approx(expected_p_history)"
   ]
  },
  {
   "cell_type": "markdown",
   "id": "3a990df6-17e9-4522-8a29-f4c86e9dcd62",
   "metadata": {},
   "source": [
    "then we'll be able to distinguish between bugs in which `expected_x_history` is off by 0.001 from bugs in which `expected_x_history` is off by 1e12.\n",
    "\n",
    "Having at least one of these will make your debugging easier."
   ]
  }
 ],
 "metadata": {
  "kernelspec": {
   "display_name": "Python 3 (ipykernel)",
   "language": "python",
   "name": "python3"
  },
  "language_info": {
   "codemirror_mode": {
    "name": "ipython",
    "version": 3
   },
   "file_extension": ".py",
   "mimetype": "text/x-python",
   "name": "python",
   "nbconvert_exporter": "python",
   "pygments_lexer": "ipython3",
   "version": "3.10.14"
  }
 },
 "nbformat": 4,
 "nbformat_minor": 5
}
