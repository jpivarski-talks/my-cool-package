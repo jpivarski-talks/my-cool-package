{
 "cells": [
  {
   "cell_type": "code",
   "execution_count": null,
   "id": "9b56bf36-9434-4c33-917f-000383e957d3",
   "metadata": {},
   "outputs": [],
   "source": [
    "import piplite\n",
    "await piplite.install(\"numpy\")\n",
    "await piplite.install(\"matplotlib\")"
   ]
  },
  {
   "cell_type": "code",
   "execution_count": null,
   "id": "c103a33e-b1e9-4edc-bd87-38b45f194be9",
   "metadata": {},
   "outputs": [],
   "source": [
    "from my_cool_package import orbitty"
   ]
  },
  {
   "cell_type": "code",
   "execution_count": null,
   "id": "4bc0e3c1-11bf-4c79-b11b-3623556de777",
   "metadata": {},
   "outputs": [],
   "source": [
    "system = orbitty.System([1, 1], [[0, -1, 0], [0, 1, 0]], [[1, 0, 0], [-1, 0, 0]])\n",
    "system.steps(300, dt=0.1)\n",
    "system.plot()"
   ]
  },
  {
   "cell_type": "code",
   "execution_count": null,
   "id": "ee84bf9e-9bda-445a-8483-9058ab16b73b",
   "metadata": {},
   "outputs": [],
   "source": [
    "system = orbitty.System([1, 1], [[0, -1], [0, 1]], [[1, 0], [-1, 0]])\n",
    "system.steps(1500, dt=0.01)\n",
    "system.plot()"
   ]
  },
  {
   "cell_type": "code",
   "execution_count": null,
   "id": "e4b75df5-04cb-4179-859c-ee3ee0cc80af",
   "metadata": {},
   "outputs": [],
   "source": [
    "system = orbitty.System([1000, 1], [[0, 0, 0], [0, 10, 0]], [[0, 0, 0], [-10, 0, 0]])\n",
    "system.steps(300)\n",
    "system.plot()"
   ]
  },
  {
   "cell_type": "code",
   "execution_count": null,
   "id": "4a0c327b-1a49-4933-b5e1-9e0d4198cd7d",
   "metadata": {},
   "outputs": [],
   "source": [
    "system = orbitty.System([1000, 1, 1], [[0, 0, 0], [0, 10, 0], [0, 11, 0]], [[0, 0, 0], [-16, 0, 0], [-13, 0, 0]])\n",
    "system.steps(600)\n",
    "system.plot()"
   ]
  },
  {
   "cell_type": "code",
   "execution_count": null,
   "id": "2149b721-d831-4919-9ed6-155d9cd976a5",
   "metadata": {},
   "outputs": [],
   "source": [
    "p1 = 0.347111\n",
    "p2 = 0.532728\n",
    "system = orbitty.System([1, 1, 1], [[-1, 0, 0], [1, 0, 0], [0, 0, 0]], [[p1, p2, 0], [p1, p2, 0], [-2*p1, -2*p2, 0]])\n",
    "system.G = 1\n",
    "system.steps(1000, dt=0.01)\n",
    "system.plot()"
   ]
  },
  {
   "cell_type": "code",
   "execution_count": null,
   "id": "fed1e4bf-c30a-4661-b18e-99f42398be48",
   "metadata": {},
   "outputs": [],
   "source": [
    "system = orbitty.System.random(20, 3, 10, 1, 100, 10)\n",
    "system.steps(10000, dt=0.1)\n",
    "system.plot()"
   ]
  },
  {
   "cell_type": "code",
   "execution_count": null,
   "id": "66a746e0-e642-41e2-9062-088353217c20",
   "metadata": {},
   "outputs": [],
   "source": [
    "system = orbitty.System.random(50, 3, 10, 1, 100, 15)\n",
    "system.steps(10000, dt=0.1)\n",
    "system.plot()"
   ]
  }
 ],
 "metadata": {
  "kernelspec": {
   "display_name": "Python 3 (ipykernel)",
   "language": "python",
   "name": "python3"
  },
  "language_info": {
   "codemirror_mode": {
    "name": "ipython",
    "version": 3
   },
   "file_extension": ".py",
   "mimetype": "text/x-python",
   "name": "python",
   "nbconvert_exporter": "python",
   "pygments_lexer": "ipython3",
   "version": "3.10.14"
  }
 },
 "nbformat": 4,
 "nbformat_minor": 5
}
